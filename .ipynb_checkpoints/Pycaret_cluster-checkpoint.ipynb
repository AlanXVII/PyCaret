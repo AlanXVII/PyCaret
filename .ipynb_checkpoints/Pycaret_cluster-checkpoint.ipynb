{
 "cells": [
  {
   "cell_type": "code",
   "execution_count": 1,
   "metadata": {},
   "outputs": [],
   "source": [
    "import matplotlib.pyplot as plt\n",
    "\n",
    "# %load_ext autotime\n",
    "%matplotlib inline"
   ]
  },
  {
   "cell_type": "code",
   "execution_count": 2,
   "metadata": {},
   "outputs": [
    {
     "data": {
      "text/html": [
       "<div>\n",
       "<style scoped>\n",
       "    .dataframe tbody tr th:only-of-type {\n",
       "        vertical-align: middle;\n",
       "    }\n",
       "\n",
       "    .dataframe tbody tr th {\n",
       "        vertical-align: top;\n",
       "    }\n",
       "\n",
       "    .dataframe thead th {\n",
       "        text-align: right;\n",
       "    }\n",
       "</style>\n",
       "<table border=\"1\" class=\"dataframe\">\n",
       "  <thead>\n",
       "    <tr style=\"text-align: right;\">\n",
       "      <th></th>\n",
       "      <th>Age</th>\n",
       "      <th>Income</th>\n",
       "      <th>SpendingScore</th>\n",
       "      <th>Savings</th>\n",
       "    </tr>\n",
       "  </thead>\n",
       "  <tbody>\n",
       "    <tr>\n",
       "      <th>0</th>\n",
       "      <td>58</td>\n",
       "      <td>77769</td>\n",
       "      <td>0.791329</td>\n",
       "      <td>6559.829923</td>\n",
       "    </tr>\n",
       "    <tr>\n",
       "      <th>1</th>\n",
       "      <td>59</td>\n",
       "      <td>81799</td>\n",
       "      <td>0.791082</td>\n",
       "      <td>5417.661426</td>\n",
       "    </tr>\n",
       "    <tr>\n",
       "      <th>2</th>\n",
       "      <td>62</td>\n",
       "      <td>74751</td>\n",
       "      <td>0.702657</td>\n",
       "      <td>9258.992965</td>\n",
       "    </tr>\n",
       "    <tr>\n",
       "      <th>3</th>\n",
       "      <td>59</td>\n",
       "      <td>74373</td>\n",
       "      <td>0.765680</td>\n",
       "      <td>7346.334504</td>\n",
       "    </tr>\n",
       "    <tr>\n",
       "      <th>4</th>\n",
       "      <td>87</td>\n",
       "      <td>17760</td>\n",
       "      <td>0.348778</td>\n",
       "      <td>16869.507130</td>\n",
       "    </tr>\n",
       "  </tbody>\n",
       "</table>\n",
       "</div>"
      ],
      "text/plain": [
       "   Age  Income  SpendingScore       Savings\n",
       "0   58   77769       0.791329   6559.829923\n",
       "1   59   81799       0.791082   5417.661426\n",
       "2   62   74751       0.702657   9258.992965\n",
       "3   59   74373       0.765680   7346.334504\n",
       "4   87   17760       0.348778  16869.507130"
      ]
     },
     "metadata": {},
     "output_type": "display_data"
    }
   ],
   "source": [
    "#import the dataset from pycaret repository\n",
    "from pycaret.datasets import get_data\n",
    "jewellery = get_data('jewellery')"
   ]
  },
  {
   "cell_type": "code",
   "execution_count": 3,
   "metadata": {},
   "outputs": [],
   "source": [
    "#import clustering module\n",
    "from pycaret.clustering import *"
   ]
  },
  {
   "cell_type": "code",
   "execution_count": 4,
   "metadata": {},
   "outputs": [
    {
     "name": "stdout",
     "output_type": "stream",
     "text": [
      "Setup Succesfully Completed!\n"
     ]
    },
    {
     "data": {
      "text/html": [
       "<style  type=\"text/css\" >\n",
       "</style><table id=\"T_35e12d58_d7d0_11ea_9412_98fa9b4e6b9f\" ><thead>    <tr>        <th class=\"blank level0\" ></th>        <th class=\"col_heading level0 col0\" >Description</th>        <th class=\"col_heading level0 col1\" >Value</th>    </tr></thead><tbody>\n",
       "                <tr>\n",
       "                        <th id=\"T_35e12d58_d7d0_11ea_9412_98fa9b4e6b9flevel0_row0\" class=\"row_heading level0 row0\" >0</th>\n",
       "                        <td id=\"T_35e12d58_d7d0_11ea_9412_98fa9b4e6b9frow0_col0\" class=\"data row0 col0\" >session_id </td>\n",
       "                        <td id=\"T_35e12d58_d7d0_11ea_9412_98fa9b4e6b9frow0_col1\" class=\"data row0 col1\" >1627</td>\n",
       "            </tr>\n",
       "            <tr>\n",
       "                        <th id=\"T_35e12d58_d7d0_11ea_9412_98fa9b4e6b9flevel0_row1\" class=\"row_heading level0 row1\" >1</th>\n",
       "                        <td id=\"T_35e12d58_d7d0_11ea_9412_98fa9b4e6b9frow1_col0\" class=\"data row1 col0\" >Original Data </td>\n",
       "                        <td id=\"T_35e12d58_d7d0_11ea_9412_98fa9b4e6b9frow1_col1\" class=\"data row1 col1\" >(505, 4)</td>\n",
       "            </tr>\n",
       "            <tr>\n",
       "                        <th id=\"T_35e12d58_d7d0_11ea_9412_98fa9b4e6b9flevel0_row2\" class=\"row_heading level0 row2\" >2</th>\n",
       "                        <td id=\"T_35e12d58_d7d0_11ea_9412_98fa9b4e6b9frow2_col0\" class=\"data row2 col0\" >Missing Values </td>\n",
       "                        <td id=\"T_35e12d58_d7d0_11ea_9412_98fa9b4e6b9frow2_col1\" class=\"data row2 col1\" >False</td>\n",
       "            </tr>\n",
       "            <tr>\n",
       "                        <th id=\"T_35e12d58_d7d0_11ea_9412_98fa9b4e6b9flevel0_row3\" class=\"row_heading level0 row3\" >3</th>\n",
       "                        <td id=\"T_35e12d58_d7d0_11ea_9412_98fa9b4e6b9frow3_col0\" class=\"data row3 col0\" >Numeric Features </td>\n",
       "                        <td id=\"T_35e12d58_d7d0_11ea_9412_98fa9b4e6b9frow3_col1\" class=\"data row3 col1\" >4</td>\n",
       "            </tr>\n",
       "            <tr>\n",
       "                        <th id=\"T_35e12d58_d7d0_11ea_9412_98fa9b4e6b9flevel0_row4\" class=\"row_heading level0 row4\" >4</th>\n",
       "                        <td id=\"T_35e12d58_d7d0_11ea_9412_98fa9b4e6b9frow4_col0\" class=\"data row4 col0\" >Categorical Features </td>\n",
       "                        <td id=\"T_35e12d58_d7d0_11ea_9412_98fa9b4e6b9frow4_col1\" class=\"data row4 col1\" >0</td>\n",
       "            </tr>\n",
       "            <tr>\n",
       "                        <th id=\"T_35e12d58_d7d0_11ea_9412_98fa9b4e6b9flevel0_row5\" class=\"row_heading level0 row5\" >5</th>\n",
       "                        <td id=\"T_35e12d58_d7d0_11ea_9412_98fa9b4e6b9frow5_col0\" class=\"data row5 col0\" >Ordinal Features </td>\n",
       "                        <td id=\"T_35e12d58_d7d0_11ea_9412_98fa9b4e6b9frow5_col1\" class=\"data row5 col1\" >False</td>\n",
       "            </tr>\n",
       "            <tr>\n",
       "                        <th id=\"T_35e12d58_d7d0_11ea_9412_98fa9b4e6b9flevel0_row6\" class=\"row_heading level0 row6\" >6</th>\n",
       "                        <td id=\"T_35e12d58_d7d0_11ea_9412_98fa9b4e6b9frow6_col0\" class=\"data row6 col0\" >High Cardinality Features </td>\n",
       "                        <td id=\"T_35e12d58_d7d0_11ea_9412_98fa9b4e6b9frow6_col1\" class=\"data row6 col1\" >False</td>\n",
       "            </tr>\n",
       "            <tr>\n",
       "                        <th id=\"T_35e12d58_d7d0_11ea_9412_98fa9b4e6b9flevel0_row7\" class=\"row_heading level0 row7\" >7</th>\n",
       "                        <td id=\"T_35e12d58_d7d0_11ea_9412_98fa9b4e6b9frow7_col0\" class=\"data row7 col0\" >Transformed Data </td>\n",
       "                        <td id=\"T_35e12d58_d7d0_11ea_9412_98fa9b4e6b9frow7_col1\" class=\"data row7 col1\" >(505, 4)</td>\n",
       "            </tr>\n",
       "            <tr>\n",
       "                        <th id=\"T_35e12d58_d7d0_11ea_9412_98fa9b4e6b9flevel0_row8\" class=\"row_heading level0 row8\" >8</th>\n",
       "                        <td id=\"T_35e12d58_d7d0_11ea_9412_98fa9b4e6b9frow8_col0\" class=\"data row8 col0\" >Numeric Imputer </td>\n",
       "                        <td id=\"T_35e12d58_d7d0_11ea_9412_98fa9b4e6b9frow8_col1\" class=\"data row8 col1\" >mean</td>\n",
       "            </tr>\n",
       "            <tr>\n",
       "                        <th id=\"T_35e12d58_d7d0_11ea_9412_98fa9b4e6b9flevel0_row9\" class=\"row_heading level0 row9\" >9</th>\n",
       "                        <td id=\"T_35e12d58_d7d0_11ea_9412_98fa9b4e6b9frow9_col0\" class=\"data row9 col0\" >Categorical Imputer </td>\n",
       "                        <td id=\"T_35e12d58_d7d0_11ea_9412_98fa9b4e6b9frow9_col1\" class=\"data row9 col1\" >constant</td>\n",
       "            </tr>\n",
       "            <tr>\n",
       "                        <th id=\"T_35e12d58_d7d0_11ea_9412_98fa9b4e6b9flevel0_row10\" class=\"row_heading level0 row10\" >10</th>\n",
       "                        <td id=\"T_35e12d58_d7d0_11ea_9412_98fa9b4e6b9frow10_col0\" class=\"data row10 col0\" >Normalize </td>\n",
       "                        <td id=\"T_35e12d58_d7d0_11ea_9412_98fa9b4e6b9frow10_col1\" class=\"data row10 col1\" >False</td>\n",
       "            </tr>\n",
       "            <tr>\n",
       "                        <th id=\"T_35e12d58_d7d0_11ea_9412_98fa9b4e6b9flevel0_row11\" class=\"row_heading level0 row11\" >11</th>\n",
       "                        <td id=\"T_35e12d58_d7d0_11ea_9412_98fa9b4e6b9frow11_col0\" class=\"data row11 col0\" >Normalize Method </td>\n",
       "                        <td id=\"T_35e12d58_d7d0_11ea_9412_98fa9b4e6b9frow11_col1\" class=\"data row11 col1\" >None</td>\n",
       "            </tr>\n",
       "            <tr>\n",
       "                        <th id=\"T_35e12d58_d7d0_11ea_9412_98fa9b4e6b9flevel0_row12\" class=\"row_heading level0 row12\" >12</th>\n",
       "                        <td id=\"T_35e12d58_d7d0_11ea_9412_98fa9b4e6b9frow12_col0\" class=\"data row12 col0\" >Transformation </td>\n",
       "                        <td id=\"T_35e12d58_d7d0_11ea_9412_98fa9b4e6b9frow12_col1\" class=\"data row12 col1\" >False</td>\n",
       "            </tr>\n",
       "            <tr>\n",
       "                        <th id=\"T_35e12d58_d7d0_11ea_9412_98fa9b4e6b9flevel0_row13\" class=\"row_heading level0 row13\" >13</th>\n",
       "                        <td id=\"T_35e12d58_d7d0_11ea_9412_98fa9b4e6b9frow13_col0\" class=\"data row13 col0\" >Transformation Method </td>\n",
       "                        <td id=\"T_35e12d58_d7d0_11ea_9412_98fa9b4e6b9frow13_col1\" class=\"data row13 col1\" >None</td>\n",
       "            </tr>\n",
       "            <tr>\n",
       "                        <th id=\"T_35e12d58_d7d0_11ea_9412_98fa9b4e6b9flevel0_row14\" class=\"row_heading level0 row14\" >14</th>\n",
       "                        <td id=\"T_35e12d58_d7d0_11ea_9412_98fa9b4e6b9frow14_col0\" class=\"data row14 col0\" >PCA </td>\n",
       "                        <td id=\"T_35e12d58_d7d0_11ea_9412_98fa9b4e6b9frow14_col1\" class=\"data row14 col1\" >False</td>\n",
       "            </tr>\n",
       "            <tr>\n",
       "                        <th id=\"T_35e12d58_d7d0_11ea_9412_98fa9b4e6b9flevel0_row15\" class=\"row_heading level0 row15\" >15</th>\n",
       "                        <td id=\"T_35e12d58_d7d0_11ea_9412_98fa9b4e6b9frow15_col0\" class=\"data row15 col0\" >PCA Method </td>\n",
       "                        <td id=\"T_35e12d58_d7d0_11ea_9412_98fa9b4e6b9frow15_col1\" class=\"data row15 col1\" >None</td>\n",
       "            </tr>\n",
       "            <tr>\n",
       "                        <th id=\"T_35e12d58_d7d0_11ea_9412_98fa9b4e6b9flevel0_row16\" class=\"row_heading level0 row16\" >16</th>\n",
       "                        <td id=\"T_35e12d58_d7d0_11ea_9412_98fa9b4e6b9frow16_col0\" class=\"data row16 col0\" >PCA components </td>\n",
       "                        <td id=\"T_35e12d58_d7d0_11ea_9412_98fa9b4e6b9frow16_col1\" class=\"data row16 col1\" >None</td>\n",
       "            </tr>\n",
       "            <tr>\n",
       "                        <th id=\"T_35e12d58_d7d0_11ea_9412_98fa9b4e6b9flevel0_row17\" class=\"row_heading level0 row17\" >17</th>\n",
       "                        <td id=\"T_35e12d58_d7d0_11ea_9412_98fa9b4e6b9frow17_col0\" class=\"data row17 col0\" >Ignore Low Variance </td>\n",
       "                        <td id=\"T_35e12d58_d7d0_11ea_9412_98fa9b4e6b9frow17_col1\" class=\"data row17 col1\" >False</td>\n",
       "            </tr>\n",
       "            <tr>\n",
       "                        <th id=\"T_35e12d58_d7d0_11ea_9412_98fa9b4e6b9flevel0_row18\" class=\"row_heading level0 row18\" >18</th>\n",
       "                        <td id=\"T_35e12d58_d7d0_11ea_9412_98fa9b4e6b9frow18_col0\" class=\"data row18 col0\" >Combine Rare Levels </td>\n",
       "                        <td id=\"T_35e12d58_d7d0_11ea_9412_98fa9b4e6b9frow18_col1\" class=\"data row18 col1\" >False</td>\n",
       "            </tr>\n",
       "            <tr>\n",
       "                        <th id=\"T_35e12d58_d7d0_11ea_9412_98fa9b4e6b9flevel0_row19\" class=\"row_heading level0 row19\" >19</th>\n",
       "                        <td id=\"T_35e12d58_d7d0_11ea_9412_98fa9b4e6b9frow19_col0\" class=\"data row19 col0\" >Rare Level Threshold </td>\n",
       "                        <td id=\"T_35e12d58_d7d0_11ea_9412_98fa9b4e6b9frow19_col1\" class=\"data row19 col1\" >None</td>\n",
       "            </tr>\n",
       "            <tr>\n",
       "                        <th id=\"T_35e12d58_d7d0_11ea_9412_98fa9b4e6b9flevel0_row20\" class=\"row_heading level0 row20\" >20</th>\n",
       "                        <td id=\"T_35e12d58_d7d0_11ea_9412_98fa9b4e6b9frow20_col0\" class=\"data row20 col0\" >Numeric Binning </td>\n",
       "                        <td id=\"T_35e12d58_d7d0_11ea_9412_98fa9b4e6b9frow20_col1\" class=\"data row20 col1\" >False</td>\n",
       "            </tr>\n",
       "            <tr>\n",
       "                        <th id=\"T_35e12d58_d7d0_11ea_9412_98fa9b4e6b9flevel0_row21\" class=\"row_heading level0 row21\" >21</th>\n",
       "                        <td id=\"T_35e12d58_d7d0_11ea_9412_98fa9b4e6b9frow21_col0\" class=\"data row21 col0\" >Remove Multicollinearity </td>\n",
       "                        <td id=\"T_35e12d58_d7d0_11ea_9412_98fa9b4e6b9frow21_col1\" class=\"data row21 col1\" >False</td>\n",
       "            </tr>\n",
       "            <tr>\n",
       "                        <th id=\"T_35e12d58_d7d0_11ea_9412_98fa9b4e6b9flevel0_row22\" class=\"row_heading level0 row22\" >22</th>\n",
       "                        <td id=\"T_35e12d58_d7d0_11ea_9412_98fa9b4e6b9frow22_col0\" class=\"data row22 col0\" >Multicollinearity Threshold </td>\n",
       "                        <td id=\"T_35e12d58_d7d0_11ea_9412_98fa9b4e6b9frow22_col1\" class=\"data row22 col1\" >None</td>\n",
       "            </tr>\n",
       "            <tr>\n",
       "                        <th id=\"T_35e12d58_d7d0_11ea_9412_98fa9b4e6b9flevel0_row23\" class=\"row_heading level0 row23\" >23</th>\n",
       "                        <td id=\"T_35e12d58_d7d0_11ea_9412_98fa9b4e6b9frow23_col0\" class=\"data row23 col0\" >Group Features </td>\n",
       "                        <td id=\"T_35e12d58_d7d0_11ea_9412_98fa9b4e6b9frow23_col1\" class=\"data row23 col1\" >False</td>\n",
       "            </tr>\n",
       "    </tbody></table>"
      ],
      "text/plain": [
       "<pandas.io.formats.style.Styler at 0x12c9df76408>"
      ]
     },
     "metadata": {},
     "output_type": "display_data"
    }
   ],
   "source": [
    "#intialize the setup\n",
    "exp_clu = setup(jewellery)"
   ]
  },
  {
   "cell_type": "code",
   "execution_count": 6,
   "metadata": {},
   "outputs": [
    {
     "data": {
      "text/html": [
       "<div>\n",
       "<style scoped>\n",
       "    .dataframe tbody tr th:only-of-type {\n",
       "        vertical-align: middle;\n",
       "    }\n",
       "\n",
       "    .dataframe tbody tr th {\n",
       "        vertical-align: top;\n",
       "    }\n",
       "\n",
       "    .dataframe thead th {\n",
       "        text-align: right;\n",
       "    }\n",
       "</style>\n",
       "<table border=\"1\" class=\"dataframe\">\n",
       "  <thead>\n",
       "    <tr style=\"text-align: right;\">\n",
       "      <th></th>\n",
       "      <th>Metric</th>\n",
       "    </tr>\n",
       "  </thead>\n",
       "  <tbody>\n",
       "    <tr>\n",
       "      <th>Silhouette</th>\n",
       "      <td>0.7207</td>\n",
       "    </tr>\n",
       "    <tr>\n",
       "      <th>Calinski-Harabasz</th>\n",
       "      <td>5011.8115</td>\n",
       "    </tr>\n",
       "    <tr>\n",
       "      <th>Davies-Bouldin</th>\n",
       "      <td>0.4114</td>\n",
       "    </tr>\n",
       "  </tbody>\n",
       "</table>\n",
       "</div>"
      ],
      "text/plain": [
       "                      Metric\n",
       "Silhouette            0.7207\n",
       "Calinski-Harabasz  5011.8115\n",
       "Davies-Bouldin        0.4114"
      ]
     },
     "metadata": {},
     "output_type": "display_data"
    }
   ],
   "source": [
    "# create k-means model\n",
    "kmeans = create_model('kmeans')"
   ]
  },
  {
   "cell_type": "code",
   "execution_count": 7,
   "metadata": {},
   "outputs": [],
   "source": [
    "# assign labels using trained model\n",
    "kmeans_df = assign_model(kmeans)"
   ]
  },
  {
   "cell_type": "code",
   "execution_count": 8,
   "metadata": {},
   "outputs": [
    {
     "data": {
      "text/html": [
       "        <script type=\"text/javascript\">\n",
       "        window.PlotlyConfig = {MathJaxConfig: 'local'};\n",
       "        if (window.MathJax) {MathJax.Hub.Config({SVG: {font: \"STIX-Web\"}});}\n",
       "        if (typeof require !== 'undefined') {\n",
       "        require.undef(\"plotly\");\n",
       "        requirejs.config({\n",
       "            paths: {\n",
       "                'plotly': ['https://cdn.plot.ly/plotly-latest.min']\n",
       "            }\n",
       "        });\n",
       "        require(['plotly'], function(Plotly) {\n",
       "            window._Plotly = Plotly;\n",
       "        });\n",
       "        }\n",
       "        </script>\n",
       "        "
      ]
     },
     "metadata": {},
     "output_type": "display_data"
    },
    {
     "data": {
      "application/vnd.plotly.v1+json": {
       "config": {
        "plotlyServerURL": "https://plot.ly"
       },
       "data": [
        {
         "customdata": [
          [
           89
          ],
          [
           91
          ],
          [
           92
          ],
          [
           90
          ],
          [
           93
          ],
          [
           89
          ],
          [
           88
          ],
          [
           87
          ],
          [
           86
          ],
          [
           88
          ],
          [
           91
          ],
          [
           85
          ],
          [
           87
          ],
          [
           91
          ],
          [
           90
          ],
          [
           85
          ],
          [
           88
          ],
          [
           91
          ],
          [
           85
          ],
          [
           88
          ],
          [
           84
          ],
          [
           88
          ],
          [
           82
          ],
          [
           79
          ],
          [
           94
          ],
          [
           86
          ],
          [
           94
          ],
          [
           89
          ],
          [
           87
          ],
          [
           84
          ],
          [
           91
          ],
          [
           91
          ],
          [
           88
          ],
          [
           88
          ],
          [
           89
          ],
          [
           91
          ],
          [
           90
          ],
          [
           83
          ],
          [
           83
          ],
          [
           86
          ],
          [
           94
          ],
          [
           84
          ],
          [
           88
          ],
          [
           86
          ],
          [
           94
          ],
          [
           85
          ],
          [
           82
          ],
          [
           91
          ],
          [
           82
          ],
          [
           91
          ],
          [
           81
          ],
          [
           89
          ],
          [
           84
          ],
          [
           87
          ],
          [
           93
          ],
          [
           84
          ],
          [
           95
          ],
          [
           89
          ],
          [
           86
          ],
          [
           85
          ],
          [
           87
          ],
          [
           92
          ],
          [
           89
          ],
          [
           85
          ],
          [
           88
          ],
          [
           86
          ],
          [
           87
          ],
          [
           94
          ],
          [
           85
          ],
          [
           83
          ],
          [
           87
          ],
          [
           84
          ],
          [
           88
          ],
          [
           91
          ],
          [
           85
          ],
          [
           90
          ],
          [
           88
          ],
          [
           89
          ],
          [
           88
          ],
          [
           90
          ],
          [
           92
          ],
          [
           84
          ],
          [
           85
          ],
          [
           88
          ],
          [
           94
          ],
          [
           91
          ],
          [
           88
          ],
          [
           87
          ],
          [
           85
          ],
          [
           83
          ],
          [
           89
          ],
          [
           83
          ],
          [
           83
          ],
          [
           97
          ],
          [
           92
          ],
          [
           91
          ],
          [
           87
          ],
          [
           83
          ],
          [
           87
          ],
          [
           91
          ],
          [
           82
          ],
          [
           91
          ],
          [
           90
          ],
          [
           90
          ],
          [
           84
          ],
          [
           88
          ],
          [
           84
          ],
          [
           84
          ],
          [
           88
          ],
          [
           90
          ],
          [
           90
          ],
          [
           84
          ],
          [
           92
          ],
          [
           86
          ],
          [
           83
          ],
          [
           94
          ],
          [
           87
          ],
          [
           92
          ],
          [
           86
          ],
          [
           85
          ],
          [
           87
          ],
          [
           92
          ],
          [
           91
          ],
          [
           84
          ],
          [
           90
          ],
          [
           83
          ],
          [
           91
          ],
          [
           87
          ],
          [
           87
          ],
          [
           92
          ],
          [
           87
          ],
          [
           79
          ],
          [
           91
          ],
          [
           87
          ],
          [
           87
          ],
          [
           84
          ],
          [
           88
          ],
          [
           83
          ],
          [
           82
          ],
          [
           89
          ],
          [
           89
          ],
          [
           86
          ],
          [
           91
          ],
          [
           93
          ],
          [
           90
          ],
          [
           89
          ],
          [
           87
          ]
         ],
         "hoverlabel": {
          "namelength": 0
         },
         "hovertemplate": "Cluster=Cluster 0<br>PCA1=%{x}<br>PCA2=%{y}<br>Feature=%{customdata[0]}",
         "legendgroup": "Cluster=Cluster 0",
         "marker": {
          "color": "#636efa",
          "opacity": 0.5,
          "symbol": "circle"
         },
         "mode": "markers",
         "name": "Cluster=Cluster 0",
         "showlegend": true,
         "textposition": "top center",
         "type": "scatter",
         "x": [
          -45316.58140609556,
          -46752.17189114908,
          -53329.08890863792,
          -42253.87287795823,
          -58127.50387027002,
          -48762.3646682712,
          -47339.947334108256,
          -45504.928216643864,
          -43811.4726203939,
          -41654.285370916725,
          -63634.722002739545,
          -41090.43271162366,
          -63656.34758998015,
          -39063.2866761909,
          -53514.366083068235,
          -54413.15855352476,
          -49206.07297923622,
          -45489.12002421863,
          -47271.41327624212,
          -40724.15688509664,
          -33685.823037835005,
          -49640.516333935906,
          -42172.09142372815,
          -37510.58801132116,
          -47366.64939309713,
          -46897.28720484185,
          -36822.882729901066,
          -50446.687258505604,
          -50055.78756429357,
          -48329.37521986344,
          -47000.1717087929,
          -48496.84792497304,
          -53103.84791289731,
          -46888.405898773766,
          -51006.62596717179,
          -46108.56441807312,
          -42382.698832036214,
          -57495.8275182228,
          -48890.16204283166,
          -56854.2449146841,
          -56820.08755360426,
          -46294.696525815096,
          -56178.67327005175,
          -39708.64698966347,
          -54957.49098917234,
          -46206.76070917288,
          -51459.51350546342,
          -58771.330100436186,
          -43231.47790879879,
          -55116.836018168375,
          -41272.89533986181,
          -55368.98427568011,
          -48469.75822555577,
          -51191.18311026795,
          -55300.43835611648,
          -48254.00622992489,
          -48754.55322293147,
          -49610.675010159706,
          -28705.21282676981,
          -47927.756153353264,
          -49952.56386424755,
          -39882.023331383025,
          -56491.72616160144,
          -46522.91941975118,
          -42594.24300193297,
          -39916.5906115269,
          -57176.867806106035,
          -48448.1898213934,
          -44945.69901444301,
          -47148.0495066526,
          -28723.99191956601,
          -37730.76934060818,
          -58306.89374121134,
          -50504.82314273772,
          -40907.251477988095,
          -45508.353885877674,
          -43012.76978349139,
          -44680.89350931925,
          -48459.57885316466,
          -50029.04867348443,
          -42805.17469366229,
          -53484.990447976204,
          -49427.52413702613,
          -47129.84416342062,
          -47975.629894303696,
          -49274.4423961593,
          -57750.75774612388,
          -44821.27195537094,
          -47211.309218979404,
          -45148.06214608791,
          -42432.64509966229,
          -52508.30353343574,
          -42546.30928703384,
          -48338.704662619326,
          -56895.33602609465,
          -47591.225111219996,
          -52350.13688160767,
          -47072.83270827881,
          -44207.36919669005,
          -48867.334224124745,
          -42152.50281937876,
          -51304.4207912102,
          -51240.7946749021,
          -52877.381646033355,
          -57516.27318363643,
          -44316.390976136514,
          -45243.3359957098,
          -51590.97205811302,
          -57888.98693798616,
          -38257.012522678706,
          -46621.67518992087,
          -55003.11473536294,
          -53120.5407087458,
          -48031.60033869835,
          -45053.50115134017,
          -51858.95285225975,
          -52745.27199507383,
          -42194.79873495242,
          -52219.788910263254,
          -53905.33080870669,
          -49083.989044483475,
          -40276.44813108956,
          -52957.61629178096,
          -39255.473865513464,
          -42485.198930508384,
          -41229.0853264679,
          -44891.72694017816,
          -45889.16124528395,
          -33223.787927586905,
          -39730.754923731976,
          -45592.66271459646,
          -43219.57063079798,
          -38870.67264138035,
          -49618.56425158389,
          -57945.29400939379,
          -48086.47161506783,
          -42334.04767150634,
          -41183.65207165712,
          -51335.69636219804,
          -41047.376366850316,
          -53680.7205852779,
          -60035.35573518631,
          -49855.36023906116,
          -55837.89621255908,
          -40392.52353813577,
          -47490.05337363706,
          -59885.18345080088
         ],
         "xaxis": "x",
         "y": [
          72.3418962085269,
          -4260.667936777421,
          -3704.1152030668813,
          -2813.4088657561015,
          -3329.4241557503874,
          -1902.3037525718098,
          -2756.2104567652136,
          -1656.425055816303,
          -3844.050642994281,
          -1284.2763352325999,
          -958.5365645110742,
          -2507.4680378488556,
          -672.1303645870963,
          -2178.951260878265,
          -3511.6505427575567,
          -1055.9968931753663,
          646.5438723752061,
          -857.2365574199098,
          -1422.263252153144,
          -3403.354998094876,
          -2359.9810608524353,
          -2403.4526565005253,
          -3482.950924420312,
          -2385.9306735999708,
          -2226.5238835946816,
          -1500.5997535503443,
          -3004.1359250357295,
          -1789.8310613735027,
          -458.7329379734669,
          -2106.956548531855,
          -3258.5927312494273,
          -1255.0231217175185,
          -1838.664645556658,
          -1747.2845158743737,
          1229.6342021038013,
          -4704.900718140076,
          -1026.21782812194,
          -874.5938320396212,
          -3117.043572435122,
          -1039.8869670204472,
          -2626.4947601230388,
          -3445.1407626668733,
          -1450.7318688866608,
          -2812.6408322745247,
          -1273.0340909671518,
          -3972.4372911141954,
          -1443.6312210611654,
          -1946.4256348815309,
          -2464.366506729345,
          -3386.631387427835,
          -2039.0519450914758,
          -990.6075970316514,
          -975.0110199269351,
          -2999.0481368530036,
          -2379.4453929525325,
          -3586.3929123393596,
          -3476.757532941404,
          -2494.3460158547664,
          -2125.5165732968308,
          1139.0677249894104,
          -1016.3628176053343,
          -3145.838811669629,
          -1529.9495201383804,
          -2395.150620327908,
          -4573.135949676128,
          -5860.406970913428,
          -500.382226029034,
          -424.4944516024692,
          -2663.436303414357,
          -948.1700320034124,
          -1283.2493416842185,
          -3447.5228656993504,
          -1498.3070625903988,
          -2541.104074402419,
          -2247.7230980697573,
          -1716.095751517992,
          -2388.3975155671847,
          -3320.2381091067396,
          -623.024823397233,
          -2907.79818013549,
          -2383.9235864924326,
          -2964.871161538941,
          -3282.4967836895153,
          -2166.9455265130227,
          -2697.4806496368697,
          -1819.1411133435654,
          -1546.7860227984631,
          -809.2478504066119,
          -497.0287321468131,
          -918.4435413744554,
          -2804.317598781815,
          -2003.379558614892,
          -2323.95502506674,
          -296.9479102201343,
          -219.83567344031837,
          -2876.01682185416,
          -1271.8366968001799,
          -3652.1430220775023,
          -1788.5950192551372,
          -3330.095089314261,
          -3595.426499455152,
          -1341.6421504993352,
          -337.5831102994559,
          -1034.0462861180665,
          -2662.237917413055,
          -1681.107809398614,
          -2386.7446703879677,
          -1709.6809922654015,
          -2297.4104284560126,
          -3209.7056998551193,
          -1061.392829700626,
          -1806.3716349634735,
          -2373.906852113614,
          -2520.879670925896,
          -3267.8530880659655,
          -1998.3145148841238,
          -3270.2500120301233,
          -2831.244972649775,
          -361.82287722905727,
          776.7213551828833,
          -2706.9542458595392,
          -3159.4030652887373,
          -512.1681616652338,
          -2456.062469507204,
          -1573.1293339464669,
          -559.8887343311548,
          -1059.5099705589146,
          -3656.8600405231186,
          -4327.599800404025,
          -3215.3117531036182,
          -1858.7415428672734,
          -982.6374045457408,
          -4966.632983631627,
          -1200.4987085746995,
          -1690.2235244245383,
          -3267.664533478742,
          -946.4427010468256,
          -2299.1775764582494,
          -2253.3249547903106,
          163.00860194240812,
          -1523.153182779474,
          -2067.7852022028555,
          -2551.6409458672983,
          -2913.1513261933897,
          -1918.0706539765338,
          -1025.6556377131565,
          968.1821841701776
         ],
         "yaxis": "y"
        },
        {
         "customdata": [
          [
           62
          ],
          [
           59
          ],
          [
           65
          ],
          [
           65
          ],
          [
           57
          ],
          [
           59
          ],
          [
           61
          ],
          [
           63
          ],
          [
           61
          ],
          [
           66
          ],
          [
           58
          ],
          [
           68
          ],
          [
           59
          ],
          [
           59
          ],
          [
           64
          ],
          [
           66
          ],
          [
           67
          ],
          [
           57
          ],
          [
           61
          ],
          [
           58
          ],
          [
           64
          ],
          [
           63
          ],
          [
           55
          ],
          [
           57
          ],
          [
           58
          ],
          [
           62
          ],
          [
           60
          ],
          [
           62
          ],
          [
           67
          ],
          [
           61
          ],
          [
           57
          ],
          [
           63
          ],
          [
           56
          ],
          [
           51
          ],
          [
           59
          ],
          [
           64
          ],
          [
           58
          ],
          [
           61
          ],
          [
           55
          ],
          [
           58
          ],
          [
           55
          ],
          [
           68
          ],
          [
           58
          ],
          [
           67
          ],
          [
           56
          ],
          [
           59
          ],
          [
           60
          ],
          [
           57
          ],
          [
           67
          ],
          [
           61
          ],
          [
           59
          ],
          [
           60
          ],
          [
           57
          ],
          [
           59
          ],
          [
           59
          ],
          [
           58
          ],
          [
           63
          ],
          [
           61
          ],
          [
           56
          ],
          [
           58
          ],
          [
           56
          ],
          [
           59
          ],
          [
           61
          ],
          [
           60
          ],
          [
           56
          ],
          [
           63
          ],
          [
           58
          ],
          [
           59
          ],
          [
           62
          ],
          [
           59
          ],
          [
           59
          ],
          [
           65
          ],
          [
           64
          ],
          [
           59
          ],
          [
           59
          ],
          [
           61
          ],
          [
           61
          ],
          [
           58
          ],
          [
           57
          ],
          [
           58
          ],
          [
           56
          ],
          [
           63
          ],
          [
           58
          ],
          [
           60
          ],
          [
           58
          ],
          [
           62
          ],
          [
           66
          ],
          [
           66
          ],
          [
           63
          ],
          [
           64
          ],
          [
           62
          ],
          [
           62
          ],
          [
           60
          ],
          [
           65
          ],
          [
           60
          ],
          [
           63
          ],
          [
           56
          ],
          [
           58
          ],
          [
           62
          ],
          [
           56
          ],
          [
           59
          ],
          [
           65
          ],
          [
           62
          ],
          [
           59
          ],
          [
           64
          ],
          [
           66
          ],
          [
           59
          ],
          [
           59
          ],
          [
           59
          ],
          [
           62
          ],
          [
           59
          ],
          [
           54
          ],
          [
           61
          ],
          [
           55
          ],
          [
           53
          ],
          [
           55
          ],
          [
           61
          ],
          [
           59
          ],
          [
           59
          ],
          [
           56
          ],
          [
           61
          ],
          [
           61
          ],
          [
           60
          ],
          [
           57
          ],
          [
           61
          ],
          [
           55
          ],
          [
           53
          ],
          [
           61
          ],
          [
           64
          ],
          [
           62
          ],
          [
           55
          ],
          [
           58
          ],
          [
           57
          ],
          [
           58
          ],
          [
           64
          ],
          [
           57
          ],
          [
           61
          ],
          [
           64
          ],
          [
           62
          ],
          [
           60
          ],
          [
           55
          ],
          [
           62
          ],
          [
           56
          ],
          [
           53
          ],
          [
           60
          ],
          [
           59
          ],
          [
           56
          ],
          [
           60
          ],
          [
           61
          ],
          [
           58
          ],
          [
           62
          ],
          [
           62
          ],
          [
           58
          ],
          [
           56
          ],
          [
           63
          ],
          [
           58
          ]
         ],
         "hoverlabel": {
          "namelength": 0
         },
         "hovertemplate": "Cluster=Cluster 1<br>PCA1=%{x}<br>PCA2=%{y}<br>Feature=%{customdata[0]}",
         "legendgroup": "Cluster=Cluster 1",
         "marker": {
          "color": "#EF553B",
          "opacity": 0.5,
          "symbol": "circle"
         },
         "mode": "markers",
         "name": "Cluster=Cluster 1",
         "showlegend": true,
         "textposition": "top center",
         "type": "scatter",
         "x": [
          -12401.012614422629,
          384.48865377878394,
          -4114.665812502661,
          -4794.730185972459,
          -5506.504775277304,
          -5787.584457334287,
          -1867.5011952055108,
          -182.87509706289597,
          -967.1345292294819,
          1855.047986918685,
          -4883.720561797809,
          2456.114942910887,
          277.31945471803687,
          -5713.3044750317185,
          3594.0424216908323,
          -3578.6411667637303,
          -15876.014194933865,
          -9604.976101231397,
          -4025.5345868614963,
          2392.9514000132285,
          1223.3332842063571,
          -18377.08091916089,
          -1254.796105082281,
          1380.9095854822594,
          -4856.160277619081,
          -7431.169946592947,
          -9176.939917160445,
          -1424.2968527852502,
          -6586.375015596341,
          3607.621847535447,
          -3147.9716901024,
          -7793.211508914157,
          5122.2825622989185,
          -3127.746475407187,
          7017.407229806948,
          -10817.514881421737,
          4968.764645874572,
          -6214.354917756377,
          -10419.650727093276,
          3333.0370081988945,
          1547.912439559424,
          -6270.130057704635,
          -6075.723945911872,
          3574.8676282851334,
          -1755.3663563989905,
          -1709.0067116984349,
          -5149.414552966313,
          4615.604589783893,
          5679.935032255563,
          -9270.98324611397,
          -1864.5940590614457,
          -805.5182840466939,
          -10371.487057071716,
          -18832.323089995098,
          -7793.454352086525,
          -4588.845682887327,
          -4661.643199436443,
          -3197.7706749317076,
          -9823.292971418656,
          834.6063416853517,
          375.61202524741344,
          -7225.656651496553,
          -3222.028497117644,
          -11770.096221904692,
          3735.2223001205443,
          7034.566991846877,
          2868.675335891811,
          2663.81414272426,
          -5898.744479681147,
          -6051.798027149639,
          -7981.746810683438,
          -811.2733012583011,
          -12402.614006035734,
          5619.125538763625,
          -2220.6354506100624,
          -9600.00952571689,
          -7827.504392605747,
          2555.7842351602667,
          1381.2925438038942,
          -4333.353171495316,
          11129.42414922961,
          10499.407295945583,
          -4972.922141129967,
          4848.442764387981,
          -5327.512619806885,
          -1710.0091006297748,
          -2630.794135208178,
          -10238.837928743034,
          -2329.6167597527656,
          -3536.6248996188615,
          -11570.01362947229,
          -12594.17524212853,
          -3881.279223544828,
          -9447.566957019657,
          -4595.725467462925,
          5567.4781171118075,
          9121.208329826177,
          499.4966180961358,
          -4176.722631704309,
          -6529.597912750258,
          -7423.928769536229,
          -9153.992100917836,
          4864.683651412997,
          -7249.028129796927,
          13091.374153516685,
          7325.256189492692,
          -860.4354477953772,
          -2601.869628345945,
          6644.597612798229,
          -611.8920766835433,
          -879.6961231840183,
          1270.5926186365102,
          -3354.4093954920468,
          -3652.0516272195177,
          1535.320034923861,
          3442.067865401048,
          1691.1469990055034,
          -9514.742122293766,
          -5495.930030665685,
          -11393.264281389042,
          -1006.7942808926962,
          -11385.807297750878,
          -5228.7735481430955,
          106.44730782999665,
          -2009.7086141751695,
          -847.3002227743402,
          -13124.391604038407,
          -6112.701966838937,
          -14757.626854505608,
          -5414.451723823094,
          -4197.995995572504,
          -907.6690876091179,
          4241.775895153047,
          1797.8692846207541,
          1198.215527285724,
          -1148.5927138363159,
          -4335.121223668241,
          11039.02694203171,
          -5806.077052611819,
          -10072.875118803537,
          871.0561448640437,
          3175.7301008876807,
          -6874.44730058378,
          -284.93461613175145,
          -7740.904879089716,
          -3902.6507601274075,
          -15159.901916245672,
          -9955.599000501968,
          -5628.9837714092055,
          8122.080380415543,
          -6945.4902208559,
          -8175.944783841651,
          3385.82204913132,
          -7927.279393999562,
          -5414.849621380293,
          5073.487356522345
         ],
         "xaxis": "x",
         "y": [
          6731.622371228145,
          6845.141814371282,
          3078.8964384945934,
          5174.470545977295,
          6298.430178867736,
          5711.62839326697,
          2685.6626854367964,
          4411.324353776286,
          4638.724240674153,
          5468.743274286697,
          4688.370746949259,
          5539.978254276129,
          5152.077722121316,
          6098.40717149921,
          5244.223767536206,
          4687.331305792247,
          7337.4625843307695,
          5517.456998799794,
          5644.552199614272,
          5992.684094109709,
          5666.367954752702,
          5086.374324713106,
          6380.9154942927935,
          5567.112673818734,
          6861.841710581507,
          6342.036901878028,
          7146.66285825278,
          7267.328542397006,
          4795.659622307599,
          4852.444518767339,
          5506.996622913863,
          6334.243251982048,
          3424.0736039052895,
          5318.281993622228,
          5588.800602998205,
          6677.482101590938,
          3943.117073633913,
          8154.200533863809,
          5982.8582214391345,
          4012.2154933423158,
          3973.9069974865147,
          5401.82169696717,
          3500.5964543132554,
          6638.189488143046,
          4273.205301847636,
          3684.6952959403598,
          5556.66613913382,
          5713.442041909505,
          4711.285967238694,
          5996.549152653396,
          5267.352553209779,
          4348.095679784139,
          6211.274488459202,
          6823.253328040568,
          5788.853893383749,
          4468.268102563846,
          4875.412034392044,
          5127.949261280456,
          6862.24757208061,
          5141.101367432592,
          5049.606296947778,
          4564.617621855317,
          4129.181189416358,
          5001.420783196852,
          4370.467828822719,
          3374.2871342934286,
          5223.642330390359,
          3399.1203547303235,
          5205.84015421388,
          6221.683453940022,
          3467.565974911421,
          4771.515153180694,
          4277.420432790431,
          4314.80390898497,
          4177.140129281852,
          4923.281603355224,
          5701.697575023514,
          5164.690387393572,
          5207.221097509012,
          6791.121727987133,
          2451.3956456354936,
          4092.586810582496,
          5053.974394482309,
          6716.389270082328,
          5507.674538617935,
          5692.091704359401,
          5512.809888472102,
          7423.315368546437,
          6502.207882775595,
          5070.413098436326,
          6393.584927460236,
          5058.593507665867,
          3532.750801645638,
          6026.370137728773,
          4575.315245883316,
          6399.679457928578,
          4076.188863858499,
          4450.572465085801,
          5121.948177991021,
          5174.060016070753,
          5595.425208078432,
          6237.455006749799,
          4834.953991865888,
          5030.101509904848,
          3878.0740056043546,
          5245.750156657966,
          1366.2175061913908,
          5720.0639106318495,
          6074.108821940041,
          2642.856462873311,
          4574.029852480235,
          4918.861099714739,
          4039.049708218609,
          4298.147934215799,
          6617.143404468858,
          3293.9257098257863,
          4305.605513370141,
          5484.062210130753,
          5033.927181148626,
          4760.726683836122,
          6827.73675228087,
          5239.834486252132,
          4906.821369117011,
          5019.545071865861,
          4571.311601888516,
          5435.293808150467,
          5122.298575466135,
          7150.26568620421,
          5008.012103778608,
          6401.496850378559,
          4646.423038232097,
          4662.571801362164,
          4854.373611538009,
          3616.906622264864,
          6031.597780098121,
          6154.518606181516,
          2658.2975188904143,
          4384.687289531573,
          5686.132349951809,
          7033.832306225474,
          5689.000453091912,
          4727.07981305535,
          3266.4701832643805,
          4064.0083360808117,
          5133.63947168739,
          5499.339332721768,
          5573.24359276873,
          4085.3122504461235,
          3413.4609900340342,
          4731.01205876093,
          5240.283697626607,
          5599.274828311295,
          4513.159427781259,
          5673.527728610807,
          4509.378948047733,
          5244.436809348919
         ],
         "yaxis": "y"
        },
        {
         "customdata": [
          [
           28
          ],
          [
           28
          ],
          [
           23
          ],
          [
           24
          ],
          [
           29
          ],
          [
           26
          ],
          [
           29
          ],
          [
           88
          ],
          [
           28
          ],
          [
           83
          ],
          [
           25
          ],
          [
           28
          ],
          [
           23
          ],
          [
           29
          ],
          [
           24
          ],
          [
           86
          ],
          [
           87
          ],
          [
           25
          ],
          [
           24
          ],
          [
           21
          ],
          [
           20
          ],
          [
           17
          ],
          [
           27
          ],
          [
           25
          ],
          [
           22
          ],
          [
           29
          ],
          [
           92
          ],
          [
           26
          ],
          [
           23
          ],
          [
           88
          ],
          [
           84
          ],
          [
           89
          ],
          [
           30
          ],
          [
           17
          ],
          [
           24
          ],
          [
           32
          ],
          [
           18
          ],
          [
           25
          ],
          [
           28
          ],
          [
           17
          ],
          [
           93
          ],
          [
           20
          ],
          [
           27
          ],
          [
           18
          ],
          [
           24
          ],
          [
           21
          ],
          [
           83
          ],
          [
           25
          ],
          [
           90
          ],
          [
           77
          ],
          [
           90
          ],
          [
           23
          ],
          [
           27
          ],
          [
           25
          ],
          [
           26
          ],
          [
           20
          ],
          [
           86
          ],
          [
           31
          ],
          [
           82
          ],
          [
           85
          ],
          [
           24
          ],
          [
           22
          ],
          [
           26
          ],
          [
           24
          ],
          [
           17
          ],
          [
           34
          ],
          [
           82
          ],
          [
           91
          ],
          [
           83
          ],
          [
           22
          ],
          [
           26
          ],
          [
           28
          ]
         ],
         "hoverlabel": {
          "namelength": 0
         },
         "hovertemplate": "Cluster=Cluster 2<br>PCA1=%{x}<br>PCA2=%{y}<br>Feature=%{customdata[0]}",
         "legendgroup": "Cluster=Cluster 2",
         "marker": {
          "color": "#00cc96",
          "opacity": 0.5,
          "symbol": "circle"
         },
         "mode": "markers",
         "name": "Cluster=Cluster 2",
         "showlegend": true,
         "textposition": "top center",
         "type": "scatter",
         "x": [
          48029.235982960934,
          41933.87634909211,
          51395.22435599951,
          59196.59308633912,
          66750.62108457655,
          50397.08389773137,
          43600.21618030977,
          47964.552261386925,
          53924.59703955878,
          42157.805428701,
          45728.401144344134,
          48281.96476402192,
          45049.71303774849,
          47210.61128412963,
          55795.99791496397,
          48577.2459445637,
          41859.154369975615,
          55783.42885801493,
          61617.25602185724,
          54542.56026091129,
          54230.3114204766,
          61085.161815426916,
          46271.749990668126,
          53422.552485701264,
          57857.28905692232,
          56449.67813828143,
          47182.068581555824,
          47842.883679066515,
          54778.919909691445,
          44952.90203538896,
          46993.64108790841,
          43861.74709102552,
          47549.762546227095,
          59798.17482849973,
          59239.85352839815,
          41328.252663309984,
          48551.89779119265,
          55809.60825993982,
          52465.03358665992,
          48697.32854440997,
          50874.59373315188,
          53899.2340599796,
          47518.88131856794,
          55587.351730733586,
          45280.296457487646,
          48602.571111840225,
          43629.01273923757,
          62912.457097805695,
          42045.795702571406,
          52844.214540832145,
          48410.009290472306,
          63317.06653244293,
          49923.232402586335,
          55168.45154506189,
          56651.45548374748,
          47415.38916240534,
          52679.137422450614,
          47836.44839182685,
          45920.303846007606,
          42414.13984409395,
          53976.790002631315,
          58984.55027496727,
          52086.38065892724,
          52263.494108744475,
          59803.04557919303,
          44074.74432267949,
          50433.85138453335,
          43084.43130106839,
          41580.27174463824,
          45302.57090416745,
          51532.47005840451,
          46000.80248469956
         ],
         "xaxis": "x",
         "y": [
          5422.323757682563,
          4717.997205237608,
          5657.241494980817,
          3903.97492681537,
          2693.0081866217515,
          2890.550968564704,
          -5657.478831520006,
          -4397.18611491968,
          5765.842845736465,
          -5954.4546018511455,
          3658.3065012522225,
          8499.966944599808,
          4590.872583456107,
          6674.234677495918,
          4252.897540706997,
          -6305.307759672733,
          -4543.326267067198,
          4732.087714707707,
          6726.313750520613,
          4193.882999372307,
          3238.4287703236855,
          4243.721728508766,
          4207.414796612184,
          3894.2354791277485,
          5717.501137167641,
          5101.398697367522,
          -4557.716601791879,
          4758.188729714917,
          4629.7913652810985,
          -4985.514801220399,
          -4647.129088588652,
          -6877.035883382068,
          3437.8964823947813,
          4315.751792559066,
          4745.144589124808,
          -4823.6458993355955,
          4668.214697412172,
          3879.1497332626573,
          3371.533065013098,
          5282.497809754309,
          -5178.052813440075,
          3176.7468854090907,
          4941.999362973271,
          3427.135195258811,
          4437.356566167741,
          6249.537360930084,
          -6254.840941209127,
          5261.355213266391,
          -3106.10347586836,
          -5677.667475551913,
          -5693.66544115745,
          4946.17751012051,
          6048.724079227708,
          4016.9816222016148,
          4271.292185091135,
          4709.388807631827,
          -4749.057025715368,
          6059.98332337455,
          -4953.921129423364,
          -5432.281819509646,
          5488.389984582107,
          3350.7116179336467,
          3388.4270346813746,
          5916.3580541298315,
          8450.307562492611,
          -6307.669140625976,
          -6854.206134077957,
          -4660.85562244451,
          -5615.560772408642,
          3778.1814213096072,
          6006.733833662533,
          3884.452851319085
         ],
         "yaxis": "y"
        },
        {
         "customdata": [
          [
           31
          ],
          [
           28
          ],
          [
           33
          ],
          [
           29
          ],
          [
           31
          ],
          [
           28
          ],
          [
           39
          ],
          [
           36
          ],
          [
           26
          ],
          [
           37
          ],
          [
           33
          ],
          [
           35
          ],
          [
           22
          ],
          [
           31
          ],
          [
           33
          ],
          [
           31
          ],
          [
           88
          ],
          [
           34
          ],
          [
           43
          ],
          [
           34
          ],
          [
           36
          ],
          [
           35
          ],
          [
           25
          ],
          [
           33
          ],
          [
           31
          ],
          [
           31
          ],
          [
           31
          ],
          [
           31
          ],
          [
           30
          ],
          [
           36
          ],
          [
           85
          ],
          [
           33
          ],
          [
           29
          ],
          [
           37
          ],
          [
           30
          ],
          [
           31
          ],
          [
           28
          ],
          [
           37
          ],
          [
           34
          ],
          [
           28
          ],
          [
           30
          ],
          [
           30
          ],
          [
           31
          ],
          [
           28
          ],
          [
           29
          ],
          [
           29
          ],
          [
           31
          ],
          [
           38
          ],
          [
           30
          ],
          [
           86
          ],
          [
           34
          ],
          [
           33
          ],
          [
           33
          ],
          [
           30
          ],
          [
           30
          ],
          [
           33
          ],
          [
           29
          ],
          [
           32
          ],
          [
           30
          ],
          [
           36
          ],
          [
           30
          ],
          [
           24
          ],
          [
           36
          ],
          [
           31
          ],
          [
           34
          ],
          [
           32
          ],
          [
           37
          ],
          [
           36
          ],
          [
           84
          ],
          [
           59
          ],
          [
           35
          ],
          [
           38
          ],
          [
           39
          ],
          [
           37
          ],
          [
           27
          ],
          [
           35
          ],
          [
           31
          ],
          [
           28
          ],
          [
           34
          ],
          [
           35
          ],
          [
           32
          ],
          [
           35
          ],
          [
           31
          ],
          [
           36
          ],
          [
           35
          ],
          [
           37
          ],
          [
           28
          ],
          [
           38
          ],
          [
           29
          ],
          [
           32
          ],
          [
           84
          ],
          [
           34
          ],
          [
           33
          ],
          [
           33
          ],
          [
           31
          ],
          [
           33
          ],
          [
           31
          ],
          [
           37
          ],
          [
           25
          ],
          [
           29
          ],
          [
           30
          ],
          [
           35
          ],
          [
           29
          ],
          [
           36
          ],
          [
           36
          ],
          [
           33
          ],
          [
           39
          ],
          [
           31
          ],
          [
           30
          ],
          [
           38
          ],
          [
           29
          ],
          [
           29
          ],
          [
           37
          ],
          [
           36
          ],
          [
           37
          ],
          [
           35
          ],
          [
           33
          ],
          [
           84
          ],
          [
           37
          ],
          [
           34
          ],
          [
           34
          ],
          [
           34
          ],
          [
           44
          ],
          [
           32
          ],
          [
           31
          ],
          [
           33
          ],
          [
           40
          ],
          [
           32
          ],
          [
           42
          ],
          [
           35
          ]
         ],
         "hoverlabel": {
          "namelength": 0
         },
         "hovertemplate": "Cluster=Cluster 3<br>PCA1=%{x}<br>PCA2=%{y}<br>Feature=%{customdata[0]}",
         "legendgroup": "Cluster=Cluster 3",
         "marker": {
          "color": "#ab63fa",
          "opacity": 0.5,
          "symbol": "circle"
         },
         "mode": "markers",
         "name": "Cluster=Cluster 3",
         "showlegend": true,
         "textposition": "top center",
         "type": "scatter",
         "x": [
          25732.34497219056,
          24827.978780545967,
          40849.480597690635,
          23392.94204685059,
          35758.27543553668,
          19017.169464917504,
          24706.128352845153,
          20592.34661300776,
          21973.30795044383,
          21900.78530003276,
          19295.267686809562,
          41298.63129283506,
          33345.15627123117,
          32345.708428700582,
          24613.75198032612,
          32322.90855312247,
          38847.16976776081,
          23196.21330643823,
          25938.050496756237,
          26507.042872359903,
          28639.38500245049,
          34360.481807350574,
          30950.10183968238,
          25328.069962281665,
          39135.376223130064,
          23748.677815454048,
          26983.046364278198,
          32307.936729140943,
          24294.80847834634,
          23967.006087975617,
          35579.20581580632,
          36008.72535912231,
          15764.491431415823,
          22105.03459107825,
          22224.556143435286,
          30148.68267391608,
          25474.402763797283,
          31960.754514207256,
          27758.387575808207,
          23858.598240023417,
          32149.921292682873,
          25376.69326607315,
          32416.939873895542,
          36260.39985707388,
          30268.705481263296,
          26312.37296892753,
          25363.919226720416,
          18943.372817813033,
          31911.001239366327,
          39941.23737509611,
          22393.417730180125,
          31045.220255678778,
          31361.085267799135,
          30614.16577855356,
          32797.64366935494,
          30584.124615113244,
          26228.37628643619,
          32572.750272366182,
          26298.148410246715,
          22350.76981632156,
          33217.926610948096,
          34815.25492053805,
          24491.38889864473,
          37228.73474520068,
          14006.000965365392,
          26023.566351406156,
          32912.89206331585,
          26071.981181359235,
          39513.273555432424,
          15177.319714667681,
          30155.33415963698,
          37939.71700891235,
          23470.847033328017,
          34830.86603735358,
          31016.952770667864,
          31317.298064553703,
          40419.57669510415,
          22236.16947437227,
          23022.218263126644,
          37194.90227907419,
          19785.994393274672,
          26003.52243192562,
          28681.54988758575,
          29861.54666962145,
          26578.153196266176,
          32853.06228369526,
          33379.4205846891,
          39399.4013818115,
          35036.71585548721,
          34753.14848573081,
          34834.90179465999,
          35572.71538685356,
          32561.025360063293,
          23896.36880790408,
          31330.343984524778,
          30046.489080926054,
          29240.5097486481,
          31202.412682476075,
          25765.790042328354,
          35711.079994329455,
          20486.14069594545,
          32691.869561685722,
          27412.691405421225,
          32210.979768642403,
          34060.87750047383,
          38869.6494526717,
          24819.360949497746,
          35187.91053468465,
          31614.44256541909,
          28960.63496494677,
          36813.767134203954,
          40673.859644327466,
          30949.636901997936,
          33203.84256888802,
          35023.21627080028,
          28912.89513619994,
          16918.676201100123,
          38543.62512292871,
          32289.540207166647,
          31502.360342968223,
          28627.259856400302,
          27456.913266673102,
          38938.11813871434,
          30836.978307627443,
          29210.556946439694,
          22258.608668569897,
          23032.680124651273,
          26343.678673902457,
          31253.468530449423,
          30806.776341952787
         ],
         "xaxis": "x",
         "y": [
          -4846.280009746116,
          -5088.608312301607,
          -5591.430862352507,
          -5117.92636990629,
          -4122.47209748601,
          -4587.056600403994,
          -6304.286871577941,
          -4611.58764836157,
          -5227.972306159949,
          -5234.914435436244,
          -3266.6501002799114,
          -6422.065006311352,
          -6080.2998260482,
          -2201.7204362153534,
          -3288.464289351833,
          -3681.290385681802,
          -8209.639308093874,
          -5613.714946473868,
          -4054.252841897084,
          -5484.674656121096,
          -3130.950539346101,
          -5038.816440742175,
          -6274.399407676455,
          -4507.818852759069,
          -4339.707016425754,
          -4085.3878885407776,
          -2897.4181107781187,
          -3401.081521768777,
          -3156.1748677381497,
          -5918.6963935933745,
          -6195.256515402729,
          -6111.705171395259,
          -2149.1522120766213,
          -4346.187741550607,
          -5737.01421639917,
          -3727.6412226852435,
          -4541.161711915864,
          -7950.1376799045365,
          -3524.6018820414915,
          -4857.997302514551,
          -5508.945169399093,
          -3922.32920739454,
          -3316.87378451985,
          -3890.344796261255,
          -4917.6755948243845,
          -4286.40536028733,
          -6518.877743618622,
          -6099.9265116751585,
          -2672.9112969661514,
          -5237.495032301004,
          -5150.746928288212,
          -4354.880673536974,
          -4837.589604607752,
          -4762.4349126193365,
          -5654.546848389318,
          -5198.65174378372,
          -4266.4841646877985,
          -6711.005814772025,
          -5023.038755192272,
          -5405.19238007051,
          -4387.404636496323,
          -5108.281670571711,
          -3378.5440905478667,
          -4575.537648425252,
          -1775.6050399833503,
          -7172.334785619934,
          -4588.66468424431,
          -4687.764619495446,
          -4805.68252052094,
          4253.6702688112655,
          -6491.8459163020625,
          -4683.440281859749,
          -4720.248925408386,
          -5377.2290211162135,
          -4865.0044073172785,
          -6141.763263553493,
          -6642.233640263946,
          -4400.042331000769,
          -4439.122859420631,
          -4030.4860762357494,
          -4699.391527469762,
          -3786.133642471529,
          -4194.112454577068,
          -4210.491742797321,
          -4542.181472406767,
          -5910.595724540101,
          -4139.053044046938,
          -5202.090344164467,
          -6415.699536226248,
          -4008.589012753899,
          -5079.540930731748,
          -4807.665202226774,
          -5658.5291473353955,
          -4653.57255088404,
          -5635.163544619184,
          -2733.109485171263,
          -5240.70987990114,
          -4006.880782404122,
          -4647.515091833697,
          -4543.481105344733,
          -4804.203700356798,
          -6066.457122934575,
          -5970.659605817777,
          -5806.3623666588965,
          -5075.678351149004,
          -4117.836047019011,
          -6443.116567478198,
          -4164.858385743972,
          -3948.413153701506,
          -5439.902381792008,
          -4615.462129870626,
          -5771.827716588528,
          -4397.19732228479,
          -6552.893169384942,
          -4416.577273256115,
          -5224.554435670842,
          -2877.1946078768756,
          -7198.063753004437,
          -3634.3413606407385,
          -5081.205331963821,
          -3324.8164217780145,
          -4868.312164441826,
          -4443.1698152763865,
          -4248.410998779928,
          -6286.356908964102,
          -5195.925409188553,
          -5461.179044520953,
          -3863.0068749343054,
          -4792.820172444663,
          -5560.204679600001
         ],
         "yaxis": "y"
        }
       ],
       "layout": {
        "height": 600,
        "legend": {
         "tracegroupgap": 0
        },
        "margin": {
         "t": 60
        },
        "plot_bgcolor": "rgb(240,240,240)",
        "template": {
         "data": {
          "bar": [
           {
            "error_x": {
             "color": "#2a3f5f"
            },
            "error_y": {
             "color": "#2a3f5f"
            },
            "marker": {
             "line": {
              "color": "#E5ECF6",
              "width": 0.5
             }
            },
            "type": "bar"
           }
          ],
          "barpolar": [
           {
            "marker": {
             "line": {
              "color": "#E5ECF6",
              "width": 0.5
             }
            },
            "type": "barpolar"
           }
          ],
          "carpet": [
           {
            "aaxis": {
             "endlinecolor": "#2a3f5f",
             "gridcolor": "white",
             "linecolor": "white",
             "minorgridcolor": "white",
             "startlinecolor": "#2a3f5f"
            },
            "baxis": {
             "endlinecolor": "#2a3f5f",
             "gridcolor": "white",
             "linecolor": "white",
             "minorgridcolor": "white",
             "startlinecolor": "#2a3f5f"
            },
            "type": "carpet"
           }
          ],
          "choropleth": [
           {
            "colorbar": {
             "outlinewidth": 0,
             "ticks": ""
            },
            "type": "choropleth"
           }
          ],
          "contour": [
           {
            "colorbar": {
             "outlinewidth": 0,
             "ticks": ""
            },
            "colorscale": [
             [
              0,
              "#0d0887"
             ],
             [
              0.1111111111111111,
              "#46039f"
             ],
             [
              0.2222222222222222,
              "#7201a8"
             ],
             [
              0.3333333333333333,
              "#9c179e"
             ],
             [
              0.4444444444444444,
              "#bd3786"
             ],
             [
              0.5555555555555556,
              "#d8576b"
             ],
             [
              0.6666666666666666,
              "#ed7953"
             ],
             [
              0.7777777777777778,
              "#fb9f3a"
             ],
             [
              0.8888888888888888,
              "#fdca26"
             ],
             [
              1,
              "#f0f921"
             ]
            ],
            "type": "contour"
           }
          ],
          "contourcarpet": [
           {
            "colorbar": {
             "outlinewidth": 0,
             "ticks": ""
            },
            "type": "contourcarpet"
           }
          ],
          "heatmap": [
           {
            "colorbar": {
             "outlinewidth": 0,
             "ticks": ""
            },
            "colorscale": [
             [
              0,
              "#0d0887"
             ],
             [
              0.1111111111111111,
              "#46039f"
             ],
             [
              0.2222222222222222,
              "#7201a8"
             ],
             [
              0.3333333333333333,
              "#9c179e"
             ],
             [
              0.4444444444444444,
              "#bd3786"
             ],
             [
              0.5555555555555556,
              "#d8576b"
             ],
             [
              0.6666666666666666,
              "#ed7953"
             ],
             [
              0.7777777777777778,
              "#fb9f3a"
             ],
             [
              0.8888888888888888,
              "#fdca26"
             ],
             [
              1,
              "#f0f921"
             ]
            ],
            "type": "heatmap"
           }
          ],
          "heatmapgl": [
           {
            "colorbar": {
             "outlinewidth": 0,
             "ticks": ""
            },
            "colorscale": [
             [
              0,
              "#0d0887"
             ],
             [
              0.1111111111111111,
              "#46039f"
             ],
             [
              0.2222222222222222,
              "#7201a8"
             ],
             [
              0.3333333333333333,
              "#9c179e"
             ],
             [
              0.4444444444444444,
              "#bd3786"
             ],
             [
              0.5555555555555556,
              "#d8576b"
             ],
             [
              0.6666666666666666,
              "#ed7953"
             ],
             [
              0.7777777777777778,
              "#fb9f3a"
             ],
             [
              0.8888888888888888,
              "#fdca26"
             ],
             [
              1,
              "#f0f921"
             ]
            ],
            "type": "heatmapgl"
           }
          ],
          "histogram": [
           {
            "marker": {
             "colorbar": {
              "outlinewidth": 0,
              "ticks": ""
             }
            },
            "type": "histogram"
           }
          ],
          "histogram2d": [
           {
            "colorbar": {
             "outlinewidth": 0,
             "ticks": ""
            },
            "colorscale": [
             [
              0,
              "#0d0887"
             ],
             [
              0.1111111111111111,
              "#46039f"
             ],
             [
              0.2222222222222222,
              "#7201a8"
             ],
             [
              0.3333333333333333,
              "#9c179e"
             ],
             [
              0.4444444444444444,
              "#bd3786"
             ],
             [
              0.5555555555555556,
              "#d8576b"
             ],
             [
              0.6666666666666666,
              "#ed7953"
             ],
             [
              0.7777777777777778,
              "#fb9f3a"
             ],
             [
              0.8888888888888888,
              "#fdca26"
             ],
             [
              1,
              "#f0f921"
             ]
            ],
            "type": "histogram2d"
           }
          ],
          "histogram2dcontour": [
           {
            "colorbar": {
             "outlinewidth": 0,
             "ticks": ""
            },
            "colorscale": [
             [
              0,
              "#0d0887"
             ],
             [
              0.1111111111111111,
              "#46039f"
             ],
             [
              0.2222222222222222,
              "#7201a8"
             ],
             [
              0.3333333333333333,
              "#9c179e"
             ],
             [
              0.4444444444444444,
              "#bd3786"
             ],
             [
              0.5555555555555556,
              "#d8576b"
             ],
             [
              0.6666666666666666,
              "#ed7953"
             ],
             [
              0.7777777777777778,
              "#fb9f3a"
             ],
             [
              0.8888888888888888,
              "#fdca26"
             ],
             [
              1,
              "#f0f921"
             ]
            ],
            "type": "histogram2dcontour"
           }
          ],
          "mesh3d": [
           {
            "colorbar": {
             "outlinewidth": 0,
             "ticks": ""
            },
            "type": "mesh3d"
           }
          ],
          "parcoords": [
           {
            "line": {
             "colorbar": {
              "outlinewidth": 0,
              "ticks": ""
             }
            },
            "type": "parcoords"
           }
          ],
          "pie": [
           {
            "automargin": true,
            "type": "pie"
           }
          ],
          "scatter": [
           {
            "marker": {
             "colorbar": {
              "outlinewidth": 0,
              "ticks": ""
             }
            },
            "type": "scatter"
           }
          ],
          "scatter3d": [
           {
            "line": {
             "colorbar": {
              "outlinewidth": 0,
              "ticks": ""
             }
            },
            "marker": {
             "colorbar": {
              "outlinewidth": 0,
              "ticks": ""
             }
            },
            "type": "scatter3d"
           }
          ],
          "scattercarpet": [
           {
            "marker": {
             "colorbar": {
              "outlinewidth": 0,
              "ticks": ""
             }
            },
            "type": "scattercarpet"
           }
          ],
          "scattergeo": [
           {
            "marker": {
             "colorbar": {
              "outlinewidth": 0,
              "ticks": ""
             }
            },
            "type": "scattergeo"
           }
          ],
          "scattergl": [
           {
            "marker": {
             "colorbar": {
              "outlinewidth": 0,
              "ticks": ""
             }
            },
            "type": "scattergl"
           }
          ],
          "scattermapbox": [
           {
            "marker": {
             "colorbar": {
              "outlinewidth": 0,
              "ticks": ""
             }
            },
            "type": "scattermapbox"
           }
          ],
          "scatterpolar": [
           {
            "marker": {
             "colorbar": {
              "outlinewidth": 0,
              "ticks": ""
             }
            },
            "type": "scatterpolar"
           }
          ],
          "scatterpolargl": [
           {
            "marker": {
             "colorbar": {
              "outlinewidth": 0,
              "ticks": ""
             }
            },
            "type": "scatterpolargl"
           }
          ],
          "scatterternary": [
           {
            "marker": {
             "colorbar": {
              "outlinewidth": 0,
              "ticks": ""
             }
            },
            "type": "scatterternary"
           }
          ],
          "surface": [
           {
            "colorbar": {
             "outlinewidth": 0,
             "ticks": ""
            },
            "colorscale": [
             [
              0,
              "#0d0887"
             ],
             [
              0.1111111111111111,
              "#46039f"
             ],
             [
              0.2222222222222222,
              "#7201a8"
             ],
             [
              0.3333333333333333,
              "#9c179e"
             ],
             [
              0.4444444444444444,
              "#bd3786"
             ],
             [
              0.5555555555555556,
              "#d8576b"
             ],
             [
              0.6666666666666666,
              "#ed7953"
             ],
             [
              0.7777777777777778,
              "#fb9f3a"
             ],
             [
              0.8888888888888888,
              "#fdca26"
             ],
             [
              1,
              "#f0f921"
             ]
            ],
            "type": "surface"
           }
          ],
          "table": [
           {
            "cells": {
             "fill": {
              "color": "#EBF0F8"
             },
             "line": {
              "color": "white"
             }
            },
            "header": {
             "fill": {
              "color": "#C8D4E3"
             },
             "line": {
              "color": "white"
             }
            },
            "type": "table"
           }
          ]
         },
         "layout": {
          "annotationdefaults": {
           "arrowcolor": "#2a3f5f",
           "arrowhead": 0,
           "arrowwidth": 1
          },
          "coloraxis": {
           "colorbar": {
            "outlinewidth": 0,
            "ticks": ""
           }
          },
          "colorscale": {
           "diverging": [
            [
             0,
             "#8e0152"
            ],
            [
             0.1,
             "#c51b7d"
            ],
            [
             0.2,
             "#de77ae"
            ],
            [
             0.3,
             "#f1b6da"
            ],
            [
             0.4,
             "#fde0ef"
            ],
            [
             0.5,
             "#f7f7f7"
            ],
            [
             0.6,
             "#e6f5d0"
            ],
            [
             0.7,
             "#b8e186"
            ],
            [
             0.8,
             "#7fbc41"
            ],
            [
             0.9,
             "#4d9221"
            ],
            [
             1,
             "#276419"
            ]
           ],
           "sequential": [
            [
             0,
             "#0d0887"
            ],
            [
             0.1111111111111111,
             "#46039f"
            ],
            [
             0.2222222222222222,
             "#7201a8"
            ],
            [
             0.3333333333333333,
             "#9c179e"
            ],
            [
             0.4444444444444444,
             "#bd3786"
            ],
            [
             0.5555555555555556,
             "#d8576b"
            ],
            [
             0.6666666666666666,
             "#ed7953"
            ],
            [
             0.7777777777777778,
             "#fb9f3a"
            ],
            [
             0.8888888888888888,
             "#fdca26"
            ],
            [
             1,
             "#f0f921"
            ]
           ],
           "sequentialminus": [
            [
             0,
             "#0d0887"
            ],
            [
             0.1111111111111111,
             "#46039f"
            ],
            [
             0.2222222222222222,
             "#7201a8"
            ],
            [
             0.3333333333333333,
             "#9c179e"
            ],
            [
             0.4444444444444444,
             "#bd3786"
            ],
            [
             0.5555555555555556,
             "#d8576b"
            ],
            [
             0.6666666666666666,
             "#ed7953"
            ],
            [
             0.7777777777777778,
             "#fb9f3a"
            ],
            [
             0.8888888888888888,
             "#fdca26"
            ],
            [
             1,
             "#f0f921"
            ]
           ]
          },
          "colorway": [
           "#636efa",
           "#EF553B",
           "#00cc96",
           "#ab63fa",
           "#FFA15A",
           "#19d3f3",
           "#FF6692",
           "#B6E880",
           "#FF97FF",
           "#FECB52"
          ],
          "font": {
           "color": "#2a3f5f"
          },
          "geo": {
           "bgcolor": "white",
           "lakecolor": "white",
           "landcolor": "#E5ECF6",
           "showlakes": true,
           "showland": true,
           "subunitcolor": "white"
          },
          "hoverlabel": {
           "align": "left"
          },
          "hovermode": "closest",
          "mapbox": {
           "style": "light"
          },
          "paper_bgcolor": "white",
          "plot_bgcolor": "#E5ECF6",
          "polar": {
           "angularaxis": {
            "gridcolor": "white",
            "linecolor": "white",
            "ticks": ""
           },
           "bgcolor": "#E5ECF6",
           "radialaxis": {
            "gridcolor": "white",
            "linecolor": "white",
            "ticks": ""
           }
          },
          "scene": {
           "xaxis": {
            "backgroundcolor": "#E5ECF6",
            "gridcolor": "white",
            "gridwidth": 2,
            "linecolor": "white",
            "showbackground": true,
            "ticks": "",
            "zerolinecolor": "white"
           },
           "yaxis": {
            "backgroundcolor": "#E5ECF6",
            "gridcolor": "white",
            "gridwidth": 2,
            "linecolor": "white",
            "showbackground": true,
            "ticks": "",
            "zerolinecolor": "white"
           },
           "zaxis": {
            "backgroundcolor": "#E5ECF6",
            "gridcolor": "white",
            "gridwidth": 2,
            "linecolor": "white",
            "showbackground": true,
            "ticks": "",
            "zerolinecolor": "white"
           }
          },
          "shapedefaults": {
           "line": {
            "color": "#2a3f5f"
           }
          },
          "ternary": {
           "aaxis": {
            "gridcolor": "white",
            "linecolor": "white",
            "ticks": ""
           },
           "baxis": {
            "gridcolor": "white",
            "linecolor": "white",
            "ticks": ""
           },
           "bgcolor": "#E5ECF6",
           "caxis": {
            "gridcolor": "white",
            "linecolor": "white",
            "ticks": ""
           }
          },
          "title": {
           "x": 0.05
          },
          "xaxis": {
           "automargin": true,
           "gridcolor": "white",
           "linecolor": "white",
           "ticks": "",
           "title": {
            "standoff": 15
           },
           "zerolinecolor": "white",
           "zerolinewidth": 2
          },
          "yaxis": {
           "automargin": true,
           "gridcolor": "white",
           "linecolor": "white",
           "ticks": "",
           "title": {
            "standoff": 15
           },
           "zerolinecolor": "white",
           "zerolinewidth": 2
          }
         }
        },
        "title": {
         "text": "2D Cluster PCA Plot"
        },
        "xaxis": {
         "anchor": "y",
         "domain": [
          0,
          1
         ],
         "title": {
          "text": "PCA1"
         }
        },
        "yaxis": {
         "anchor": "x",
         "domain": [
          0,
          1
         ],
         "title": {
          "text": "PCA2"
         }
        }
       }
      },
      "text/html": [
       "<div>\n",
       "        \n",
       "        \n",
       "            <div id=\"d41527b9-16e6-435b-bd71-559145ae1b8a\" class=\"plotly-graph-div\" style=\"height:600px; width:100%;\"></div>\n",
       "            <script type=\"text/javascript\">\n",
       "                require([\"plotly\"], function(Plotly) {\n",
       "                    window.PLOTLYENV=window.PLOTLYENV || {};\n",
       "                    \n",
       "                if (document.getElementById(\"d41527b9-16e6-435b-bd71-559145ae1b8a\")) {\n",
       "                    Plotly.newPlot(\n",
       "                        'd41527b9-16e6-435b-bd71-559145ae1b8a',\n",
       "                        [{\"customdata\": [[89], [91], [92], [90], [93], [89], [88], [87], [86], [88], [91], [85], [87], [91], [90], [85], [88], [91], [85], [88], [84], [88], [82], [79], [94], [86], [94], [89], [87], [84], [91], [91], [88], [88], [89], [91], [90], [83], [83], [86], [94], [84], [88], [86], [94], [85], [82], [91], [82], [91], [81], [89], [84], [87], [93], [84], [95], [89], [86], [85], [87], [92], [89], [85], [88], [86], [87], [94], [85], [83], [87], [84], [88], [91], [85], [90], [88], [89], [88], [90], [92], [84], [85], [88], [94], [91], [88], [87], [85], [83], [89], [83], [83], [97], [92], [91], [87], [83], [87], [91], [82], [91], [90], [90], [84], [88], [84], [84], [88], [90], [90], [84], [92], [86], [83], [94], [87], [92], [86], [85], [87], [92], [91], [84], [90], [83], [91], [87], [87], [92], [87], [79], [91], [87], [87], [84], [88], [83], [82], [89], [89], [86], [91], [93], [90], [89], [87]], \"hoverlabel\": {\"namelength\": 0}, \"hovertemplate\": \"Cluster=Cluster 0<br>PCA1=%{x}<br>PCA2=%{y}<br>Feature=%{customdata[0]}\", \"legendgroup\": \"Cluster=Cluster 0\", \"marker\": {\"color\": \"#636efa\", \"opacity\": 0.5, \"symbol\": \"circle\"}, \"mode\": \"markers\", \"name\": \"Cluster=Cluster 0\", \"showlegend\": true, \"textposition\": \"top center\", \"type\": \"scatter\", \"x\": [-45316.58140609556, -46752.17189114908, -53329.08890863792, -42253.87287795823, -58127.50387027002, -48762.3646682712, -47339.947334108256, -45504.928216643864, -43811.4726203939, -41654.285370916725, -63634.722002739545, -41090.43271162366, -63656.34758998015, -39063.2866761909, -53514.366083068235, -54413.15855352476, -49206.07297923622, -45489.12002421863, -47271.41327624212, -40724.15688509664, -33685.823037835005, -49640.516333935906, -42172.09142372815, -37510.58801132116, -47366.64939309713, -46897.28720484185, -36822.882729901066, -50446.687258505604, -50055.78756429357, -48329.37521986344, -47000.1717087929, -48496.84792497304, -53103.84791289731, -46888.405898773766, -51006.62596717179, -46108.56441807312, -42382.698832036214, -57495.8275182228, -48890.16204283166, -56854.2449146841, -56820.08755360426, -46294.696525815096, -56178.67327005175, -39708.64698966347, -54957.49098917234, -46206.76070917288, -51459.51350546342, -58771.330100436186, -43231.47790879879, -55116.836018168375, -41272.89533986181, -55368.98427568011, -48469.75822555577, -51191.18311026795, -55300.43835611648, -48254.00622992489, -48754.55322293147, -49610.675010159706, -28705.21282676981, -47927.756153353264, -49952.56386424755, -39882.023331383025, -56491.72616160144, -46522.91941975118, -42594.24300193297, -39916.5906115269, -57176.867806106035, -48448.1898213934, -44945.69901444301, -47148.0495066526, -28723.99191956601, -37730.76934060818, -58306.89374121134, -50504.82314273772, -40907.251477988095, -45508.353885877674, -43012.76978349139, -44680.89350931925, -48459.57885316466, -50029.04867348443, -42805.17469366229, -53484.990447976204, -49427.52413702613, -47129.84416342062, -47975.629894303696, -49274.4423961593, -57750.75774612388, -44821.27195537094, -47211.309218979404, -45148.06214608791, -42432.64509966229, -52508.30353343574, -42546.30928703384, -48338.704662619326, -56895.33602609465, -47591.225111219996, -52350.13688160767, -47072.83270827881, -44207.36919669005, -48867.334224124745, -42152.50281937876, -51304.4207912102, -51240.7946749021, -52877.381646033355, -57516.27318363643, -44316.390976136514, -45243.3359957098, -51590.97205811302, -57888.98693798616, -38257.012522678706, -46621.67518992087, -55003.11473536294, -53120.5407087458, -48031.60033869835, -45053.50115134017, -51858.95285225975, -52745.27199507383, -42194.79873495242, -52219.788910263254, -53905.33080870669, -49083.989044483475, -40276.44813108956, -52957.61629178096, -39255.473865513464, -42485.198930508384, -41229.0853264679, -44891.72694017816, -45889.16124528395, -33223.787927586905, -39730.754923731976, -45592.66271459646, -43219.57063079798, -38870.67264138035, -49618.56425158389, -57945.29400939379, -48086.47161506783, -42334.04767150634, -41183.65207165712, -51335.69636219804, -41047.376366850316, -53680.7205852779, -60035.35573518631, -49855.36023906116, -55837.89621255908, -40392.52353813577, -47490.05337363706, -59885.18345080088], \"xaxis\": \"x\", \"y\": [72.3418962085269, -4260.667936777421, -3704.1152030668813, -2813.4088657561015, -3329.4241557503874, -1902.3037525718098, -2756.2104567652136, -1656.425055816303, -3844.050642994281, -1284.2763352325999, -958.5365645110742, -2507.4680378488556, -672.1303645870963, -2178.951260878265, -3511.6505427575567, -1055.9968931753663, 646.5438723752061, -857.2365574199098, -1422.263252153144, -3403.354998094876, -2359.9810608524353, -2403.4526565005253, -3482.950924420312, -2385.9306735999708, -2226.5238835946816, -1500.5997535503443, -3004.1359250357295, -1789.8310613735027, -458.7329379734669, -2106.956548531855, -3258.5927312494273, -1255.0231217175185, -1838.664645556658, -1747.2845158743737, 1229.6342021038013, -4704.900718140076, -1026.21782812194, -874.5938320396212, -3117.043572435122, -1039.8869670204472, -2626.4947601230388, -3445.1407626668733, -1450.7318688866608, -2812.6408322745247, -1273.0340909671518, -3972.4372911141954, -1443.6312210611654, -1946.4256348815309, -2464.366506729345, -3386.631387427835, -2039.0519450914758, -990.6075970316514, -975.0110199269351, -2999.0481368530036, -2379.4453929525325, -3586.3929123393596, -3476.757532941404, -2494.3460158547664, -2125.5165732968308, 1139.0677249894104, -1016.3628176053343, -3145.838811669629, -1529.9495201383804, -2395.150620327908, -4573.135949676128, -5860.406970913428, -500.382226029034, -424.4944516024692, -2663.436303414357, -948.1700320034124, -1283.2493416842185, -3447.5228656993504, -1498.3070625903988, -2541.104074402419, -2247.7230980697573, -1716.095751517992, -2388.3975155671847, -3320.2381091067396, -623.024823397233, -2907.79818013549, -2383.9235864924326, -2964.871161538941, -3282.4967836895153, -2166.9455265130227, -2697.4806496368697, -1819.1411133435654, -1546.7860227984631, -809.2478504066119, -497.0287321468131, -918.4435413744554, -2804.317598781815, -2003.379558614892, -2323.95502506674, -296.9479102201343, -219.83567344031837, -2876.01682185416, -1271.8366968001799, -3652.1430220775023, -1788.5950192551372, -3330.095089314261, -3595.426499455152, -1341.6421504993352, -337.5831102994559, -1034.0462861180665, -2662.237917413055, -1681.107809398614, -2386.7446703879677, -1709.6809922654015, -2297.4104284560126, -3209.7056998551193, -1061.392829700626, -1806.3716349634735, -2373.906852113614, -2520.879670925896, -3267.8530880659655, -1998.3145148841238, -3270.2500120301233, -2831.244972649775, -361.82287722905727, 776.7213551828833, -2706.9542458595392, -3159.4030652887373, -512.1681616652338, -2456.062469507204, -1573.1293339464669, -559.8887343311548, -1059.5099705589146, -3656.8600405231186, -4327.599800404025, -3215.3117531036182, -1858.7415428672734, -982.6374045457408, -4966.632983631627, -1200.4987085746995, -1690.2235244245383, -3267.664533478742, -946.4427010468256, -2299.1775764582494, -2253.3249547903106, 163.00860194240812, -1523.153182779474, -2067.7852022028555, -2551.6409458672983, -2913.1513261933897, -1918.0706539765338, -1025.6556377131565, 968.1821841701776], \"yaxis\": \"y\"}, {\"customdata\": [[62], [59], [65], [65], [57], [59], [61], [63], [61], [66], [58], [68], [59], [59], [64], [66], [67], [57], [61], [58], [64], [63], [55], [57], [58], [62], [60], [62], [67], [61], [57], [63], [56], [51], [59], [64], [58], [61], [55], [58], [55], [68], [58], [67], [56], [59], [60], [57], [67], [61], [59], [60], [57], [59], [59], [58], [63], [61], [56], [58], [56], [59], [61], [60], [56], [63], [58], [59], [62], [59], [59], [65], [64], [59], [59], [61], [61], [58], [57], [58], [56], [63], [58], [60], [58], [62], [66], [66], [63], [64], [62], [62], [60], [65], [60], [63], [56], [58], [62], [56], [59], [65], [62], [59], [64], [66], [59], [59], [59], [62], [59], [54], [61], [55], [53], [55], [61], [59], [59], [56], [61], [61], [60], [57], [61], [55], [53], [61], [64], [62], [55], [58], [57], [58], [64], [57], [61], [64], [62], [60], [55], [62], [56], [53], [60], [59], [56], [60], [61], [58], [62], [62], [58], [56], [63], [58]], \"hoverlabel\": {\"namelength\": 0}, \"hovertemplate\": \"Cluster=Cluster 1<br>PCA1=%{x}<br>PCA2=%{y}<br>Feature=%{customdata[0]}\", \"legendgroup\": \"Cluster=Cluster 1\", \"marker\": {\"color\": \"#EF553B\", \"opacity\": 0.5, \"symbol\": \"circle\"}, \"mode\": \"markers\", \"name\": \"Cluster=Cluster 1\", \"showlegend\": true, \"textposition\": \"top center\", \"type\": \"scatter\", \"x\": [-12401.012614422629, 384.48865377878394, -4114.665812502661, -4794.730185972459, -5506.504775277304, -5787.584457334287, -1867.5011952055108, -182.87509706289597, -967.1345292294819, 1855.047986918685, -4883.720561797809, 2456.114942910887, 277.31945471803687, -5713.3044750317185, 3594.0424216908323, -3578.6411667637303, -15876.014194933865, -9604.976101231397, -4025.5345868614963, 2392.9514000132285, 1223.3332842063571, -18377.08091916089, -1254.796105082281, 1380.9095854822594, -4856.160277619081, -7431.169946592947, -9176.939917160445, -1424.2968527852502, -6586.375015596341, 3607.621847535447, -3147.9716901024, -7793.211508914157, 5122.2825622989185, -3127.746475407187, 7017.407229806948, -10817.514881421737, 4968.764645874572, -6214.354917756377, -10419.650727093276, 3333.0370081988945, 1547.912439559424, -6270.130057704635, -6075.723945911872, 3574.8676282851334, -1755.3663563989905, -1709.0067116984349, -5149.414552966313, 4615.604589783893, 5679.935032255563, -9270.98324611397, -1864.5940590614457, -805.5182840466939, -10371.487057071716, -18832.323089995098, -7793.454352086525, -4588.845682887327, -4661.643199436443, -3197.7706749317076, -9823.292971418656, 834.6063416853517, 375.61202524741344, -7225.656651496553, -3222.028497117644, -11770.096221904692, 3735.2223001205443, 7034.566991846877, 2868.675335891811, 2663.81414272426, -5898.744479681147, -6051.798027149639, -7981.746810683438, -811.2733012583011, -12402.614006035734, 5619.125538763625, -2220.6354506100624, -9600.00952571689, -7827.504392605747, 2555.7842351602667, 1381.2925438038942, -4333.353171495316, 11129.42414922961, 10499.407295945583, -4972.922141129967, 4848.442764387981, -5327.512619806885, -1710.0091006297748, -2630.794135208178, -10238.837928743034, -2329.6167597527656, -3536.6248996188615, -11570.01362947229, -12594.17524212853, -3881.279223544828, -9447.566957019657, -4595.725467462925, 5567.4781171118075, 9121.208329826177, 499.4966180961358, -4176.722631704309, -6529.597912750258, -7423.928769536229, -9153.992100917836, 4864.683651412997, -7249.028129796927, 13091.374153516685, 7325.256189492692, -860.4354477953772, -2601.869628345945, 6644.597612798229, -611.8920766835433, -879.6961231840183, 1270.5926186365102, -3354.4093954920468, -3652.0516272195177, 1535.320034923861, 3442.067865401048, 1691.1469990055034, -9514.742122293766, -5495.930030665685, -11393.264281389042, -1006.7942808926962, -11385.807297750878, -5228.7735481430955, 106.44730782999665, -2009.7086141751695, -847.3002227743402, -13124.391604038407, -6112.701966838937, -14757.626854505608, -5414.451723823094, -4197.995995572504, -907.6690876091179, 4241.775895153047, 1797.8692846207541, 1198.215527285724, -1148.5927138363159, -4335.121223668241, 11039.02694203171, -5806.077052611819, -10072.875118803537, 871.0561448640437, 3175.7301008876807, -6874.44730058378, -284.93461613175145, -7740.904879089716, -3902.6507601274075, -15159.901916245672, -9955.599000501968, -5628.9837714092055, 8122.080380415543, -6945.4902208559, -8175.944783841651, 3385.82204913132, -7927.279393999562, -5414.849621380293, 5073.487356522345], \"xaxis\": \"x\", \"y\": [6731.622371228145, 6845.141814371282, 3078.8964384945934, 5174.470545977295, 6298.430178867736, 5711.62839326697, 2685.6626854367964, 4411.324353776286, 4638.724240674153, 5468.743274286697, 4688.370746949259, 5539.978254276129, 5152.077722121316, 6098.40717149921, 5244.223767536206, 4687.331305792247, 7337.4625843307695, 5517.456998799794, 5644.552199614272, 5992.684094109709, 5666.367954752702, 5086.374324713106, 6380.9154942927935, 5567.112673818734, 6861.841710581507, 6342.036901878028, 7146.66285825278, 7267.328542397006, 4795.659622307599, 4852.444518767339, 5506.996622913863, 6334.243251982048, 3424.0736039052895, 5318.281993622228, 5588.800602998205, 6677.482101590938, 3943.117073633913, 8154.200533863809, 5982.8582214391345, 4012.2154933423158, 3973.9069974865147, 5401.82169696717, 3500.5964543132554, 6638.189488143046, 4273.205301847636, 3684.6952959403598, 5556.66613913382, 5713.442041909505, 4711.285967238694, 5996.549152653396, 5267.352553209779, 4348.095679784139, 6211.274488459202, 6823.253328040568, 5788.853893383749, 4468.268102563846, 4875.412034392044, 5127.949261280456, 6862.24757208061, 5141.101367432592, 5049.606296947778, 4564.617621855317, 4129.181189416358, 5001.420783196852, 4370.467828822719, 3374.2871342934286, 5223.642330390359, 3399.1203547303235, 5205.84015421388, 6221.683453940022, 3467.565974911421, 4771.515153180694, 4277.420432790431, 4314.80390898497, 4177.140129281852, 4923.281603355224, 5701.697575023514, 5164.690387393572, 5207.221097509012, 6791.121727987133, 2451.3956456354936, 4092.586810582496, 5053.974394482309, 6716.389270082328, 5507.674538617935, 5692.091704359401, 5512.809888472102, 7423.315368546437, 6502.207882775595, 5070.413098436326, 6393.584927460236, 5058.593507665867, 3532.750801645638, 6026.370137728773, 4575.315245883316, 6399.679457928578, 4076.188863858499, 4450.572465085801, 5121.948177991021, 5174.060016070753, 5595.425208078432, 6237.455006749799, 4834.953991865888, 5030.101509904848, 3878.0740056043546, 5245.750156657966, 1366.2175061913908, 5720.0639106318495, 6074.108821940041, 2642.856462873311, 4574.029852480235, 4918.861099714739, 4039.049708218609, 4298.147934215799, 6617.143404468858, 3293.9257098257863, 4305.605513370141, 5484.062210130753, 5033.927181148626, 4760.726683836122, 6827.73675228087, 5239.834486252132, 4906.821369117011, 5019.545071865861, 4571.311601888516, 5435.293808150467, 5122.298575466135, 7150.26568620421, 5008.012103778608, 6401.496850378559, 4646.423038232097, 4662.571801362164, 4854.373611538009, 3616.906622264864, 6031.597780098121, 6154.518606181516, 2658.2975188904143, 4384.687289531573, 5686.132349951809, 7033.832306225474, 5689.000453091912, 4727.07981305535, 3266.4701832643805, 4064.0083360808117, 5133.63947168739, 5499.339332721768, 5573.24359276873, 4085.3122504461235, 3413.4609900340342, 4731.01205876093, 5240.283697626607, 5599.274828311295, 4513.159427781259, 5673.527728610807, 4509.378948047733, 5244.436809348919], \"yaxis\": \"y\"}, {\"customdata\": [[28], [28], [23], [24], [29], [26], [29], [88], [28], [83], [25], [28], [23], [29], [24], [86], [87], [25], [24], [21], [20], [17], [27], [25], [22], [29], [92], [26], [23], [88], [84], [89], [30], [17], [24], [32], [18], [25], [28], [17], [93], [20], [27], [18], [24], [21], [83], [25], [90], [77], [90], [23], [27], [25], [26], [20], [86], [31], [82], [85], [24], [22], [26], [24], [17], [34], [82], [91], [83], [22], [26], [28]], \"hoverlabel\": {\"namelength\": 0}, \"hovertemplate\": \"Cluster=Cluster 2<br>PCA1=%{x}<br>PCA2=%{y}<br>Feature=%{customdata[0]}\", \"legendgroup\": \"Cluster=Cluster 2\", \"marker\": {\"color\": \"#00cc96\", \"opacity\": 0.5, \"symbol\": \"circle\"}, \"mode\": \"markers\", \"name\": \"Cluster=Cluster 2\", \"showlegend\": true, \"textposition\": \"top center\", \"type\": \"scatter\", \"x\": [48029.235982960934, 41933.87634909211, 51395.22435599951, 59196.59308633912, 66750.62108457655, 50397.08389773137, 43600.21618030977, 47964.552261386925, 53924.59703955878, 42157.805428701, 45728.401144344134, 48281.96476402192, 45049.71303774849, 47210.61128412963, 55795.99791496397, 48577.2459445637, 41859.154369975615, 55783.42885801493, 61617.25602185724, 54542.56026091129, 54230.3114204766, 61085.161815426916, 46271.749990668126, 53422.552485701264, 57857.28905692232, 56449.67813828143, 47182.068581555824, 47842.883679066515, 54778.919909691445, 44952.90203538896, 46993.64108790841, 43861.74709102552, 47549.762546227095, 59798.17482849973, 59239.85352839815, 41328.252663309984, 48551.89779119265, 55809.60825993982, 52465.03358665992, 48697.32854440997, 50874.59373315188, 53899.2340599796, 47518.88131856794, 55587.351730733586, 45280.296457487646, 48602.571111840225, 43629.01273923757, 62912.457097805695, 42045.795702571406, 52844.214540832145, 48410.009290472306, 63317.06653244293, 49923.232402586335, 55168.45154506189, 56651.45548374748, 47415.38916240534, 52679.137422450614, 47836.44839182685, 45920.303846007606, 42414.13984409395, 53976.790002631315, 58984.55027496727, 52086.38065892724, 52263.494108744475, 59803.04557919303, 44074.74432267949, 50433.85138453335, 43084.43130106839, 41580.27174463824, 45302.57090416745, 51532.47005840451, 46000.80248469956], \"xaxis\": \"x\", \"y\": [5422.323757682563, 4717.997205237608, 5657.241494980817, 3903.97492681537, 2693.0081866217515, 2890.550968564704, -5657.478831520006, -4397.18611491968, 5765.842845736465, -5954.4546018511455, 3658.3065012522225, 8499.966944599808, 4590.872583456107, 6674.234677495918, 4252.897540706997, -6305.307759672733, -4543.326267067198, 4732.087714707707, 6726.313750520613, 4193.882999372307, 3238.4287703236855, 4243.721728508766, 4207.414796612184, 3894.2354791277485, 5717.501137167641, 5101.398697367522, -4557.716601791879, 4758.188729714917, 4629.7913652810985, -4985.514801220399, -4647.129088588652, -6877.035883382068, 3437.8964823947813, 4315.751792559066, 4745.144589124808, -4823.6458993355955, 4668.214697412172, 3879.1497332626573, 3371.533065013098, 5282.497809754309, -5178.052813440075, 3176.7468854090907, 4941.999362973271, 3427.135195258811, 4437.356566167741, 6249.537360930084, -6254.840941209127, 5261.355213266391, -3106.10347586836, -5677.667475551913, -5693.66544115745, 4946.17751012051, 6048.724079227708, 4016.9816222016148, 4271.292185091135, 4709.388807631827, -4749.057025715368, 6059.98332337455, -4953.921129423364, -5432.281819509646, 5488.389984582107, 3350.7116179336467, 3388.4270346813746, 5916.3580541298315, 8450.307562492611, -6307.669140625976, -6854.206134077957, -4660.85562244451, -5615.560772408642, 3778.1814213096072, 6006.733833662533, 3884.452851319085], \"yaxis\": \"y\"}, {\"customdata\": [[31], [28], [33], [29], [31], [28], [39], [36], [26], [37], [33], [35], [22], [31], [33], [31], [88], [34], [43], [34], [36], [35], [25], [33], [31], [31], [31], [31], [30], [36], [85], [33], [29], [37], [30], [31], [28], [37], [34], [28], [30], [30], [31], [28], [29], [29], [31], [38], [30], [86], [34], [33], [33], [30], [30], [33], [29], [32], [30], [36], [30], [24], [36], [31], [34], [32], [37], [36], [84], [59], [35], [38], [39], [37], [27], [35], [31], [28], [34], [35], [32], [35], [31], [36], [35], [37], [28], [38], [29], [32], [84], [34], [33], [33], [31], [33], [31], [37], [25], [29], [30], [35], [29], [36], [36], [33], [39], [31], [30], [38], [29], [29], [37], [36], [37], [35], [33], [84], [37], [34], [34], [34], [44], [32], [31], [33], [40], [32], [42], [35]], \"hoverlabel\": {\"namelength\": 0}, \"hovertemplate\": \"Cluster=Cluster 3<br>PCA1=%{x}<br>PCA2=%{y}<br>Feature=%{customdata[0]}\", \"legendgroup\": \"Cluster=Cluster 3\", \"marker\": {\"color\": \"#ab63fa\", \"opacity\": 0.5, \"symbol\": \"circle\"}, \"mode\": \"markers\", \"name\": \"Cluster=Cluster 3\", \"showlegend\": true, \"textposition\": \"top center\", \"type\": \"scatter\", \"x\": [25732.34497219056, 24827.978780545967, 40849.480597690635, 23392.94204685059, 35758.27543553668, 19017.169464917504, 24706.128352845153, 20592.34661300776, 21973.30795044383, 21900.78530003276, 19295.267686809562, 41298.63129283506, 33345.15627123117, 32345.708428700582, 24613.75198032612, 32322.90855312247, 38847.16976776081, 23196.21330643823, 25938.050496756237, 26507.042872359903, 28639.38500245049, 34360.481807350574, 30950.10183968238, 25328.069962281665, 39135.376223130064, 23748.677815454048, 26983.046364278198, 32307.936729140943, 24294.80847834634, 23967.006087975617, 35579.20581580632, 36008.72535912231, 15764.491431415823, 22105.03459107825, 22224.556143435286, 30148.68267391608, 25474.402763797283, 31960.754514207256, 27758.387575808207, 23858.598240023417, 32149.921292682873, 25376.69326607315, 32416.939873895542, 36260.39985707388, 30268.705481263296, 26312.37296892753, 25363.919226720416, 18943.372817813033, 31911.001239366327, 39941.23737509611, 22393.417730180125, 31045.220255678778, 31361.085267799135, 30614.16577855356, 32797.64366935494, 30584.124615113244, 26228.37628643619, 32572.750272366182, 26298.148410246715, 22350.76981632156, 33217.926610948096, 34815.25492053805, 24491.38889864473, 37228.73474520068, 14006.000965365392, 26023.566351406156, 32912.89206331585, 26071.981181359235, 39513.273555432424, 15177.319714667681, 30155.33415963698, 37939.71700891235, 23470.847033328017, 34830.86603735358, 31016.952770667864, 31317.298064553703, 40419.57669510415, 22236.16947437227, 23022.218263126644, 37194.90227907419, 19785.994393274672, 26003.52243192562, 28681.54988758575, 29861.54666962145, 26578.153196266176, 32853.06228369526, 33379.4205846891, 39399.4013818115, 35036.71585548721, 34753.14848573081, 34834.90179465999, 35572.71538685356, 32561.025360063293, 23896.36880790408, 31330.343984524778, 30046.489080926054, 29240.5097486481, 31202.412682476075, 25765.790042328354, 35711.079994329455, 20486.14069594545, 32691.869561685722, 27412.691405421225, 32210.979768642403, 34060.87750047383, 38869.6494526717, 24819.360949497746, 35187.91053468465, 31614.44256541909, 28960.63496494677, 36813.767134203954, 40673.859644327466, 30949.636901997936, 33203.84256888802, 35023.21627080028, 28912.89513619994, 16918.676201100123, 38543.62512292871, 32289.540207166647, 31502.360342968223, 28627.259856400302, 27456.913266673102, 38938.11813871434, 30836.978307627443, 29210.556946439694, 22258.608668569897, 23032.680124651273, 26343.678673902457, 31253.468530449423, 30806.776341952787], \"xaxis\": \"x\", \"y\": [-4846.280009746116, -5088.608312301607, -5591.430862352507, -5117.92636990629, -4122.47209748601, -4587.056600403994, -6304.286871577941, -4611.58764836157, -5227.972306159949, -5234.914435436244, -3266.6501002799114, -6422.065006311352, -6080.2998260482, -2201.7204362153534, -3288.464289351833, -3681.290385681802, -8209.639308093874, -5613.714946473868, -4054.252841897084, -5484.674656121096, -3130.950539346101, -5038.816440742175, -6274.399407676455, -4507.818852759069, -4339.707016425754, -4085.3878885407776, -2897.4181107781187, -3401.081521768777, -3156.1748677381497, -5918.6963935933745, -6195.256515402729, -6111.705171395259, -2149.1522120766213, -4346.187741550607, -5737.01421639917, -3727.6412226852435, -4541.161711915864, -7950.1376799045365, -3524.6018820414915, -4857.997302514551, -5508.945169399093, -3922.32920739454, -3316.87378451985, -3890.344796261255, -4917.6755948243845, -4286.40536028733, -6518.877743618622, -6099.9265116751585, -2672.9112969661514, -5237.495032301004, -5150.746928288212, -4354.880673536974, -4837.589604607752, -4762.4349126193365, -5654.546848389318, -5198.65174378372, -4266.4841646877985, -6711.005814772025, -5023.038755192272, -5405.19238007051, -4387.404636496323, -5108.281670571711, -3378.5440905478667, -4575.537648425252, -1775.6050399833503, -7172.334785619934, -4588.66468424431, -4687.764619495446, -4805.68252052094, 4253.6702688112655, -6491.8459163020625, -4683.440281859749, -4720.248925408386, -5377.2290211162135, -4865.0044073172785, -6141.763263553493, -6642.233640263946, -4400.042331000769, -4439.122859420631, -4030.4860762357494, -4699.391527469762, -3786.133642471529, -4194.112454577068, -4210.491742797321, -4542.181472406767, -5910.595724540101, -4139.053044046938, -5202.090344164467, -6415.699536226248, -4008.589012753899, -5079.540930731748, -4807.665202226774, -5658.5291473353955, -4653.57255088404, -5635.163544619184, -2733.109485171263, -5240.70987990114, -4006.880782404122, -4647.515091833697, -4543.481105344733, -4804.203700356798, -6066.457122934575, -5970.659605817777, -5806.3623666588965, -5075.678351149004, -4117.836047019011, -6443.116567478198, -4164.858385743972, -3948.413153701506, -5439.902381792008, -4615.462129870626, -5771.827716588528, -4397.19732228479, -6552.893169384942, -4416.577273256115, -5224.554435670842, -2877.1946078768756, -7198.063753004437, -3634.3413606407385, -5081.205331963821, -3324.8164217780145, -4868.312164441826, -4443.1698152763865, -4248.410998779928, -6286.356908964102, -5195.925409188553, -5461.179044520953, -3863.0068749343054, -4792.820172444663, -5560.204679600001], \"yaxis\": \"y\"}],\n",
       "                        {\"height\": 600, \"legend\": {\"tracegroupgap\": 0}, \"margin\": {\"t\": 60}, \"plot_bgcolor\": \"rgb(240,240,240)\", \"template\": {\"data\": {\"bar\": [{\"error_x\": {\"color\": \"#2a3f5f\"}, \"error_y\": {\"color\": \"#2a3f5f\"}, \"marker\": {\"line\": {\"color\": \"#E5ECF6\", \"width\": 0.5}}, \"type\": \"bar\"}], \"barpolar\": [{\"marker\": {\"line\": {\"color\": \"#E5ECF6\", \"width\": 0.5}}, \"type\": \"barpolar\"}], \"carpet\": [{\"aaxis\": {\"endlinecolor\": \"#2a3f5f\", \"gridcolor\": \"white\", \"linecolor\": \"white\", \"minorgridcolor\": \"white\", \"startlinecolor\": \"#2a3f5f\"}, \"baxis\": {\"endlinecolor\": \"#2a3f5f\", \"gridcolor\": \"white\", \"linecolor\": \"white\", \"minorgridcolor\": \"white\", \"startlinecolor\": \"#2a3f5f\"}, \"type\": \"carpet\"}], \"choropleth\": [{\"colorbar\": {\"outlinewidth\": 0, \"ticks\": \"\"}, \"type\": \"choropleth\"}], \"contour\": [{\"colorbar\": {\"outlinewidth\": 0, \"ticks\": \"\"}, \"colorscale\": [[0.0, \"#0d0887\"], [0.1111111111111111, \"#46039f\"], [0.2222222222222222, \"#7201a8\"], [0.3333333333333333, \"#9c179e\"], [0.4444444444444444, \"#bd3786\"], [0.5555555555555556, \"#d8576b\"], [0.6666666666666666, \"#ed7953\"], [0.7777777777777778, \"#fb9f3a\"], [0.8888888888888888, \"#fdca26\"], [1.0, \"#f0f921\"]], \"type\": \"contour\"}], \"contourcarpet\": [{\"colorbar\": {\"outlinewidth\": 0, \"ticks\": \"\"}, \"type\": \"contourcarpet\"}], \"heatmap\": [{\"colorbar\": {\"outlinewidth\": 0, \"ticks\": \"\"}, \"colorscale\": [[0.0, \"#0d0887\"], [0.1111111111111111, \"#46039f\"], [0.2222222222222222, \"#7201a8\"], [0.3333333333333333, \"#9c179e\"], [0.4444444444444444, \"#bd3786\"], [0.5555555555555556, \"#d8576b\"], [0.6666666666666666, \"#ed7953\"], [0.7777777777777778, \"#fb9f3a\"], [0.8888888888888888, \"#fdca26\"], [1.0, \"#f0f921\"]], \"type\": \"heatmap\"}], \"heatmapgl\": [{\"colorbar\": {\"outlinewidth\": 0, \"ticks\": \"\"}, \"colorscale\": [[0.0, \"#0d0887\"], [0.1111111111111111, \"#46039f\"], [0.2222222222222222, \"#7201a8\"], [0.3333333333333333, \"#9c179e\"], [0.4444444444444444, \"#bd3786\"], [0.5555555555555556, \"#d8576b\"], [0.6666666666666666, \"#ed7953\"], [0.7777777777777778, \"#fb9f3a\"], [0.8888888888888888, \"#fdca26\"], [1.0, \"#f0f921\"]], \"type\": \"heatmapgl\"}], \"histogram\": [{\"marker\": {\"colorbar\": {\"outlinewidth\": 0, \"ticks\": \"\"}}, \"type\": \"histogram\"}], \"histogram2d\": [{\"colorbar\": {\"outlinewidth\": 0, \"ticks\": \"\"}, \"colorscale\": [[0.0, \"#0d0887\"], [0.1111111111111111, \"#46039f\"], [0.2222222222222222, \"#7201a8\"], [0.3333333333333333, \"#9c179e\"], [0.4444444444444444, \"#bd3786\"], [0.5555555555555556, \"#d8576b\"], [0.6666666666666666, \"#ed7953\"], [0.7777777777777778, \"#fb9f3a\"], [0.8888888888888888, \"#fdca26\"], [1.0, \"#f0f921\"]], \"type\": \"histogram2d\"}], \"histogram2dcontour\": [{\"colorbar\": {\"outlinewidth\": 0, \"ticks\": \"\"}, \"colorscale\": [[0.0, \"#0d0887\"], [0.1111111111111111, \"#46039f\"], [0.2222222222222222, \"#7201a8\"], [0.3333333333333333, \"#9c179e\"], [0.4444444444444444, \"#bd3786\"], [0.5555555555555556, \"#d8576b\"], [0.6666666666666666, \"#ed7953\"], [0.7777777777777778, \"#fb9f3a\"], [0.8888888888888888, \"#fdca26\"], [1.0, \"#f0f921\"]], \"type\": \"histogram2dcontour\"}], \"mesh3d\": [{\"colorbar\": {\"outlinewidth\": 0, \"ticks\": \"\"}, \"type\": \"mesh3d\"}], \"parcoords\": [{\"line\": {\"colorbar\": {\"outlinewidth\": 0, \"ticks\": \"\"}}, \"type\": \"parcoords\"}], \"pie\": [{\"automargin\": true, \"type\": \"pie\"}], \"scatter\": [{\"marker\": {\"colorbar\": {\"outlinewidth\": 0, \"ticks\": \"\"}}, \"type\": \"scatter\"}], \"scatter3d\": [{\"line\": {\"colorbar\": {\"outlinewidth\": 0, \"ticks\": \"\"}}, \"marker\": {\"colorbar\": {\"outlinewidth\": 0, \"ticks\": \"\"}}, \"type\": \"scatter3d\"}], \"scattercarpet\": [{\"marker\": {\"colorbar\": {\"outlinewidth\": 0, \"ticks\": \"\"}}, \"type\": \"scattercarpet\"}], \"scattergeo\": [{\"marker\": {\"colorbar\": {\"outlinewidth\": 0, \"ticks\": \"\"}}, \"type\": \"scattergeo\"}], \"scattergl\": [{\"marker\": {\"colorbar\": {\"outlinewidth\": 0, \"ticks\": \"\"}}, \"type\": \"scattergl\"}], \"scattermapbox\": [{\"marker\": {\"colorbar\": {\"outlinewidth\": 0, \"ticks\": \"\"}}, \"type\": \"scattermapbox\"}], \"scatterpolar\": [{\"marker\": {\"colorbar\": {\"outlinewidth\": 0, \"ticks\": \"\"}}, \"type\": \"scatterpolar\"}], \"scatterpolargl\": [{\"marker\": {\"colorbar\": {\"outlinewidth\": 0, \"ticks\": \"\"}}, \"type\": \"scatterpolargl\"}], \"scatterternary\": [{\"marker\": {\"colorbar\": {\"outlinewidth\": 0, \"ticks\": \"\"}}, \"type\": \"scatterternary\"}], \"surface\": [{\"colorbar\": {\"outlinewidth\": 0, \"ticks\": \"\"}, \"colorscale\": [[0.0, \"#0d0887\"], [0.1111111111111111, \"#46039f\"], [0.2222222222222222, \"#7201a8\"], [0.3333333333333333, \"#9c179e\"], [0.4444444444444444, \"#bd3786\"], [0.5555555555555556, \"#d8576b\"], [0.6666666666666666, \"#ed7953\"], [0.7777777777777778, \"#fb9f3a\"], [0.8888888888888888, \"#fdca26\"], [1.0, \"#f0f921\"]], \"type\": \"surface\"}], \"table\": [{\"cells\": {\"fill\": {\"color\": \"#EBF0F8\"}, \"line\": {\"color\": \"white\"}}, \"header\": {\"fill\": {\"color\": \"#C8D4E3\"}, \"line\": {\"color\": \"white\"}}, \"type\": \"table\"}]}, \"layout\": {\"annotationdefaults\": {\"arrowcolor\": \"#2a3f5f\", \"arrowhead\": 0, \"arrowwidth\": 1}, \"coloraxis\": {\"colorbar\": {\"outlinewidth\": 0, \"ticks\": \"\"}}, \"colorscale\": {\"diverging\": [[0, \"#8e0152\"], [0.1, \"#c51b7d\"], [0.2, \"#de77ae\"], [0.3, \"#f1b6da\"], [0.4, \"#fde0ef\"], [0.5, \"#f7f7f7\"], [0.6, \"#e6f5d0\"], [0.7, \"#b8e186\"], [0.8, \"#7fbc41\"], [0.9, \"#4d9221\"], [1, \"#276419\"]], \"sequential\": [[0.0, \"#0d0887\"], [0.1111111111111111, \"#46039f\"], [0.2222222222222222, \"#7201a8\"], [0.3333333333333333, \"#9c179e\"], [0.4444444444444444, \"#bd3786\"], [0.5555555555555556, \"#d8576b\"], [0.6666666666666666, \"#ed7953\"], [0.7777777777777778, \"#fb9f3a\"], [0.8888888888888888, \"#fdca26\"], [1.0, \"#f0f921\"]], \"sequentialminus\": [[0.0, \"#0d0887\"], [0.1111111111111111, \"#46039f\"], [0.2222222222222222, \"#7201a8\"], [0.3333333333333333, \"#9c179e\"], [0.4444444444444444, \"#bd3786\"], [0.5555555555555556, \"#d8576b\"], [0.6666666666666666, \"#ed7953\"], [0.7777777777777778, \"#fb9f3a\"], [0.8888888888888888, \"#fdca26\"], [1.0, \"#f0f921\"]]}, \"colorway\": [\"#636efa\", \"#EF553B\", \"#00cc96\", \"#ab63fa\", \"#FFA15A\", \"#19d3f3\", \"#FF6692\", \"#B6E880\", \"#FF97FF\", \"#FECB52\"], \"font\": {\"color\": \"#2a3f5f\"}, \"geo\": {\"bgcolor\": \"white\", \"lakecolor\": \"white\", \"landcolor\": \"#E5ECF6\", \"showlakes\": true, \"showland\": true, \"subunitcolor\": \"white\"}, \"hoverlabel\": {\"align\": \"left\"}, \"hovermode\": \"closest\", \"mapbox\": {\"style\": \"light\"}, \"paper_bgcolor\": \"white\", \"plot_bgcolor\": \"#E5ECF6\", \"polar\": {\"angularaxis\": {\"gridcolor\": \"white\", \"linecolor\": \"white\", \"ticks\": \"\"}, \"bgcolor\": \"#E5ECF6\", \"radialaxis\": {\"gridcolor\": \"white\", \"linecolor\": \"white\", \"ticks\": \"\"}}, \"scene\": {\"xaxis\": {\"backgroundcolor\": \"#E5ECF6\", \"gridcolor\": \"white\", \"gridwidth\": 2, \"linecolor\": \"white\", \"showbackground\": true, \"ticks\": \"\", \"zerolinecolor\": \"white\"}, \"yaxis\": {\"backgroundcolor\": \"#E5ECF6\", \"gridcolor\": \"white\", \"gridwidth\": 2, \"linecolor\": \"white\", \"showbackground\": true, \"ticks\": \"\", \"zerolinecolor\": \"white\"}, \"zaxis\": {\"backgroundcolor\": \"#E5ECF6\", \"gridcolor\": \"white\", \"gridwidth\": 2, \"linecolor\": \"white\", \"showbackground\": true, \"ticks\": \"\", \"zerolinecolor\": \"white\"}}, \"shapedefaults\": {\"line\": {\"color\": \"#2a3f5f\"}}, \"ternary\": {\"aaxis\": {\"gridcolor\": \"white\", \"linecolor\": \"white\", \"ticks\": \"\"}, \"baxis\": {\"gridcolor\": \"white\", \"linecolor\": \"white\", \"ticks\": \"\"}, \"bgcolor\": \"#E5ECF6\", \"caxis\": {\"gridcolor\": \"white\", \"linecolor\": \"white\", \"ticks\": \"\"}}, \"title\": {\"x\": 0.05}, \"xaxis\": {\"automargin\": true, \"gridcolor\": \"white\", \"linecolor\": \"white\", \"ticks\": \"\", \"title\": {\"standoff\": 15}, \"zerolinecolor\": \"white\", \"zerolinewidth\": 2}, \"yaxis\": {\"automargin\": true, \"gridcolor\": \"white\", \"linecolor\": \"white\", \"ticks\": \"\", \"title\": {\"standoff\": 15}, \"zerolinecolor\": \"white\", \"zerolinewidth\": 2}}}, \"title\": {\"text\": \"2D Cluster PCA Plot\"}, \"xaxis\": {\"anchor\": \"y\", \"domain\": [0.0, 1.0], \"title\": {\"text\": \"PCA1\"}}, \"yaxis\": {\"anchor\": \"x\", \"domain\": [0.0, 1.0], \"title\": {\"text\": \"PCA2\"}}},\n",
       "                        {\"responsive\": true}\n",
       "                    ).then(function(){\n",
       "                            \n",
       "var gd = document.getElementById('d41527b9-16e6-435b-bd71-559145ae1b8a');\n",
       "var x = new MutationObserver(function (mutations, observer) {{\n",
       "        var display = window.getComputedStyle(gd).display;\n",
       "        if (!display || display === 'none') {{\n",
       "            console.log([gd, 'removed!']);\n",
       "            Plotly.purge(gd);\n",
       "            observer.disconnect();\n",
       "        }}\n",
       "}});\n",
       "\n",
       "// Listen for the removal of the full notebook cells\n",
       "var notebookContainer = gd.closest('#notebook-container');\n",
       "if (notebookContainer) {{\n",
       "    x.observe(notebookContainer, {childList: true});\n",
       "}}\n",
       "\n",
       "// Listen for the clearing of the current output cell\n",
       "var outputEl = gd.closest('.output');\n",
       "if (outputEl) {{\n",
       "    x.observe(outputEl, {childList: true});\n",
       "}}\n",
       "\n",
       "                        })\n",
       "                };\n",
       "                });\n",
       "            </script>\n",
       "        </div>"
      ]
     },
     "metadata": {},
     "output_type": "display_data"
    }
   ],
   "source": [
    "# plot a model\n",
    "plot_model(kmeans)"
   ]
  },
  {
   "cell_type": "code",
   "execution_count": null,
   "metadata": {},
   "outputs": [],
   "source": []
  },
  {
   "cell_type": "code",
   "execution_count": null,
   "metadata": {},
   "outputs": [],
   "source": []
  }
 ],
 "metadata": {
  "kernelspec": {
   "display_name": "Python 3",
   "language": "python",
   "name": "python3"
  },
  "language_info": {
   "codemirror_mode": {
    "name": "ipython",
    "version": 3
   },
   "file_extension": ".py",
   "mimetype": "text/x-python",
   "name": "python",
   "nbconvert_exporter": "python",
   "pygments_lexer": "ipython3",
   "version": "3.7.4"
  }
 },
 "nbformat": 4,
 "nbformat_minor": 4
}
